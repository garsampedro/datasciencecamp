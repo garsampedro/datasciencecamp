{
  "cells": [
    {
      "cell_type": "markdown",
      "metadata": {
        "deletable": false,
        "editable": false,
        "id": "eXFwVqOWjggF"
      },
      "source": [
        "<img src=\"https://manilacoding.com/assets/img/company-logo.png\">\n",
        "\n",
        "# <font color=\"DeepSkyBlue\" size=\"7em\">Introduction to Python</font>\n",
        "\n",
        "Author: Ethan Robert A. Casin\n",
        "\n",
        "Copyright © 2020 Ethan Robert A. Casin. All rights reserved.\n",
        "\n",
        "This notebook was written, conceptualized, and prepared for Data Science 1 under Manila Coding Camp's Data Science Specialization. None of the content here shall be reproduced and/or distributed without the written permission of the author. \n",
        "\n",
        "\n",
        "THE SOFTWARE IS PROVIDED \"AS IS\", WITHOUT WARRANTY OF ANY KIND, EXPRESS OR IMPLIED, INCLUDING BUT NOT LIMITED TO THE WARRANTIES OF MERCHANTABILITY, FITNESS FOR A PARTICULAR PURPOSE AND NONINFRINGEMENT. IN NO EVENT SHALL THE\n",
        "AUTHORS OR COPYRIGHT HOLDERS BE LIABLE FOR ANY CLAIM, DAMAGES OR OTHER LIABILITY, WHETHER IN AN ACTION OF CONTRACT, TORT OR OTHERWISE, ARISING FROM, OUT OF OR IN CONNECTION WITH THE SOFTWARE OR THE USE OR OTHER DEALINGS IN THE\n",
        "SOFTWARE.\n",
        "\n",
        "---"
      ]
    },
    {
      "cell_type": "markdown",
      "metadata": {
        "id": "2ZYL_nlqjggI"
      },
      "source": [
        "## About this notebook\n",
        "\n",
        "The goal of this notebook is to let students be familiarized with Python and its basics. We will be tackling some basics of Python and we will write your first program! We will be talking about the following topics:\n",
        "\n",
        "1. Python operations\n",
        "2. Data types\n",
        "3. Variables, lists, and dictionaries\n",
        "\n",
        "\n",
        "Understanding these three topics will ensure smooth learning of more advanced topics in programming on Python. If you get stuck along the way, don't worry! Everyone made more than one mistake in learning programming and it is nothing to be ashamed of. Just remember to keep learning and have fun! I'm excited to be learning with you all!\n",
        "\n",
        "---"
      ]
    },
    {
      "cell_type": "markdown",
      "metadata": {
        "id": "j8_yrix5jggI"
      },
      "source": [
        "# <font color=\"Crimson\">Welcome to Python!</font> <a id=welcome/>"
      ]
    },
    {
      "cell_type": "markdown",
      "metadata": {
        "id": "YETu2xbSjggJ"
      },
      "source": [
        "## What is Python? <a id=python/>\n",
        "\n",
        "No we are not talking about the animal, but it is a programming language most often used by a lot of people. [Python](https://www.python.org/doc/essays/blurb/) is an interpreted, object-oriented, high-level programming language with dynamic semantics. It's often used to introduce the world of programming to both students and professionals alike. More than that, it has a large community that are willing to help you solve problems and even provide extremely useful programs important to a lot of use cases.\n",
        "\n",
        "<img src=\"https://upload.wikimedia.org/wikipedia/commons/thumb/c/c3/Python-logo-notext.svg/768px-Python-logo-notext.svg.png\" height=150em width=150em align=\"right\">\n",
        "\n",
        "As we will journey on our data science path, we must learn some terms for us to be able to communicate with fellow practitioners. Python is almost equivocal to data science, because of the large community, easy readability, and many more! For this course, we will ease into the concepts in Python and programming then start utilizing various Python [libraries](https://docs.python.org/3/library/intro.html), which are pre-made codes that we can use.\n",
        "\n",
        ">Here are some examples on where Python is used:\n",
        ">1. Web development (server side)\n",
        "2. Software development\n",
        "3. Mathematics and statistics\n",
        "4. Quantum computing\n",
        "5. Data science and analytics"
      ]
    },
    {
      "cell_type": "markdown",
      "metadata": {
        "id": "Pfq13ToOjggK"
      },
      "source": [
        "## Your First Python Program"
      ]
    },
    {
      "cell_type": "markdown",
      "metadata": {
        "id": "EYNPuLVxjggK"
      },
      "source": [
        "As with any programming language, we will be using the `print` function to start our first program!"
      ]
    },
    {
      "cell_type": "code",
      "execution_count": null,
      "metadata": {
        "ExecuteTime": {
          "end_time": "2021-01-09T06:39:31.717625Z",
          "start_time": "2021-01-09T06:39:31.715966Z"
        },
        "code_folding": [],
        "scrolled": true,
        "id": "5wAxnyihjggL"
      },
      "outputs": [],
      "source": [
        "# Run this cell block\n",
        "print(\"Hello World!\")"
      ]
    },
    {
      "cell_type": "markdown",
      "metadata": {
        "id": "ssss3qR-jggM"
      },
      "source": [
        "You would notice that the text `Run this cell block` is in green. This is because of the character `#` which makes all things on that line as a `comment`. Comments are special, since it is ignored by Python completely. You can un-comment a line by removing the `#` symbol or by highlighting the line and pressing `Ctrl + /` for Windows or `Cmd + /` for MacOS."
      ]
    },
    {
      "cell_type": "markdown",
      "metadata": {
        "id": "_jmvgdj3jggN"
      },
      "source": [
        "## Try it!\n",
        "\n",
        "Try to make a comment on the cell below. Write anything or even try to comment out the `print(\"Hello World!\")`. "
      ]
    },
    {
      "cell_type": "code",
      "execution_count": null,
      "metadata": {
        "ExecuteTime": {
          "end_time": "2021-01-09T06:40:13.785172Z",
          "start_time": "2021-01-09T06:40:13.782806Z"
        },
        "scrolled": true,
        "id": "uY9tdG80jggO"
      },
      "outputs": [],
      "source": [
        "print(\"My name is ethan\")"
      ]
    },
    {
      "cell_type": "markdown",
      "metadata": {
        "id": "Wl93jCfFjggO"
      },
      "source": [
        "That's it! That's your first official Python program. In the next sections, we will be discussing one of the most fundamental concepts in programming: operators. We will see the different kinds of operators and how to use them."
      ]
    },
    {
      "cell_type": "markdown",
      "metadata": {
        "id": "FwM4nnPfjggP"
      },
      "source": [
        "# <font color=\"Crimson\">Python Operations</font>\n",
        "\n",
        "We already encountered operators in our everyday life. We add things up, subtract, multiply, and even divide when we want to do some quick mathematics. In this section, we will be discussing Python operators and how to apply them."
      ]
    },
    {
      "cell_type": "markdown",
      "metadata": {
        "id": "4Yn2rfWPjggP"
      },
      "source": [
        "## Arithmetic Operations\n",
        "\n",
        "The first type of Python operators are for arithmetic. We are already familiar with these and we will see how to use them and how they function in programming. Below is a summary of the different arithmetic operators we will discuss.\n",
        "\n",
        "|Operator|Name|Description|\n",
        "|---|---|---|\n",
        "|$+$|Addition| Adds two values together|\n",
        "|$-$|Subtraction| Subtracts two values|\n",
        "|$*$|Multiplication| Multiplies two values|\n",
        "|$/$|Division|Divides two values|\n",
        "|$**$|Exponentiation| Raises a value to another value|\n",
        "|%|Modulo| Outputs the remainder after division|\n",
        "|$//$|Floor| Outputs the rounded down value after division|\n"
      ]
    },
    {
      "cell_type": "markdown",
      "metadata": {
        "id": "HqhGRZDzjggP"
      },
      "source": [
        "We will first discuss the three basic types: addition `+`, subtraction `-`, multiplication `*`, and division `/`."
      ]
    },
    {
      "cell_type": "code",
      "execution_count": null,
      "metadata": {
        "ExecuteTime": {
          "end_time": "2021-01-09T06:42:17.933372Z",
          "start_time": "2021-01-09T06:42:17.930131Z"
        },
        "id": "B5JURM4SjggQ"
      },
      "outputs": [],
      "source": [
        "# Addtion operator +\n",
        "# run this cell\n",
        "1 + 1"
      ]
    },
    {
      "cell_type": "markdown",
      "metadata": {
        "id": "1PMw8tkejggQ"
      },
      "source": [
        "As you can see, Python has an easy syntax for conducting operations. We also see that it's intuitive and concise, which can make the overall code more readable than other programming languages. "
      ]
    },
    {
      "cell_type": "code",
      "execution_count": null,
      "metadata": {
        "ExecuteTime": {
          "end_time": "2021-01-09T06:42:37.702169Z",
          "start_time": "2021-01-09T06:42:37.698987Z"
        },
        "id": "iZKd_5VXjggQ"
      },
      "outputs": [],
      "source": [
        "# Subtraction operator -\n",
        "# run this cell\n",
        "\n",
        "2 - 1"
      ]
    },
    {
      "cell_type": "markdown",
      "metadata": {
        "id": "uvGvl2R9jggQ"
      },
      "source": [
        "Same as before, we can see that the operations are intuitive enough to be understood at a moment's glance. Now I ask, is it possible to use 2 + (-1) instead? There's only one way to find out!"
      ]
    },
    {
      "cell_type": "code",
      "execution_count": null,
      "metadata": {
        "ExecuteTime": {
          "end_time": "2021-01-09T06:42:51.766231Z",
          "start_time": "2021-01-09T06:42:51.763193Z"
        },
        "id": "Fs8T8ySvjggR"
      },
      "outputs": [],
      "source": [
        "# Operations with negative numbers\n",
        "# run this cell\n",
        "\n",
        "2 + (-1)"
      ]
    },
    {
      "cell_type": "markdown",
      "metadata": {
        "id": "NQZXe9EkjggR"
      },
      "source": [
        "It works! This means that Python is able to easily operate on negative numbers and basic operations. We can try to do the multiplication `*` and division `/` here. It's better to play around and experiment with these operators to achieve a better learning experience."
      ]
    },
    {
      "cell_type": "code",
      "execution_count": null,
      "metadata": {
        "ExecuteTime": {
          "end_time": "2021-01-09T06:43:13.151023Z",
          "start_time": "2021-01-09T06:43:13.148111Z"
        },
        "id": "kBFqndd-jggR"
      },
      "outputs": [],
      "source": [
        "# Do multiplication here \n",
        "# Multiplication operator *\n",
        "# run this cell\n",
        "\n",
        "4 * 5"
      ]
    },
    {
      "cell_type": "code",
      "execution_count": null,
      "metadata": {
        "ExecuteTime": {
          "end_time": "2021-01-09T06:43:21.670133Z",
          "start_time": "2021-01-09T06:43:21.666189Z"
        },
        "scrolled": true,
        "id": "C5zLo5hpjggS"
      },
      "outputs": [],
      "source": [
        "# Do this on your own\n",
        "# Do division here\n",
        "# Division operator /\n",
        "100 / 5"
      ]
    },
    {
      "cell_type": "markdown",
      "metadata": {
        "id": "chEG1ndpjggS"
      },
      "source": [
        "Now that we touched on the basic four operators. I introduce three, but essential arithmetic operators. These three are often used in more complex programs, but are always essential in making the codes as concise as possible. \n",
        "\n",
        "These operators are the exponentiation `**`, modulo `%` and the floor division `//`. Exponentiation raises a number to a certain constant. For example, $2^2$ is the number $2$ multiplied twice. "
      ]
    },
    {
      "cell_type": "code",
      "execution_count": null,
      "metadata": {
        "ExecuteTime": {
          "end_time": "2021-01-09T06:45:16.442987Z",
          "start_time": "2021-01-09T06:45:16.440153Z"
        },
        "id": "TTMf3gkVjggT"
      },
      "outputs": [],
      "source": [
        "# Exponentiation operator **\n",
        "# run this cell\n",
        "\n",
        "2 ** 3"
      ]
    },
    {
      "cell_type": "markdown",
      "metadata": {
        "id": "pTlyuaPzjggU"
      },
      "source": [
        "The last two operators are a special case of division. The modulo `%` operator divides two numbers and **outputs the remainder** of those two numbers. For example, the remainder of $5/2$ is $1$ and the remainder of $4/2$ is $0$. Hopefully you noticed that you can use this operator to distinguish between *even* and *odd* numbers."
      ]
    },
    {
      "cell_type": "code",
      "execution_count": null,
      "metadata": {
        "ExecuteTime": {
          "end_time": "2021-01-09T06:47:03.740523Z",
          "start_time": "2021-01-09T06:47:03.737201Z"
        },
        "id": "Fy03veNhjggU"
      },
      "outputs": [],
      "source": [
        "# Modulo operator %\n",
        "# run this cell\n",
        "\n",
        "4 % 2"
      ]
    },
    {
      "cell_type": "markdown",
      "metadata": {
        "id": "e0d5zoRajggV"
      },
      "source": [
        "The last operator is the floor `//` operator which divides two numbers and **rounds down** the result. The reason why it's called floor is because it \"puts down\" a number. For example, $3/2$ is $1.5$. However, if you floor it, it becomes $1$."
      ]
    },
    {
      "cell_type": "code",
      "execution_count": null,
      "metadata": {
        "ExecuteTime": {
          "end_time": "2021-01-09T06:47:44.334790Z",
          "start_time": "2021-01-09T06:47:44.331382Z"
        },
        "id": "OT7xXjFYjggV"
      },
      "outputs": [],
      "source": [
        "# Floor operator //\n",
        "# run this cell\n",
        "\n",
        "3 // 2"
      ]
    },
    {
      "cell_type": "markdown",
      "metadata": {
        "id": "3Tev3JoejggV"
      },
      "source": [
        "### Mathematical Interlude: Order of Operations\n",
        "\n",
        "As with mathematics, Python follows the normal order of operations. That is the PEMDAS rule. Note that operators of the same priority are evaluated from left to right. A summary of the rule is shown below.\n",
        "\n",
        "<img src=\"https://www.algebra-class.com/images/order-of-operations1.jpg\" width=500em>\n",
        "<font size=1em>Image source: https://www.algebra-class.com/pemdas.html</font>\n",
        "\n",
        "Let's try to see it in practice. You can play around with different equations to learn more about it. As an example, when we evaluate $(3-2) \\times 4 - 5$ we would get $-1$ as the result. Let's test that."
      ]
    },
    {
      "cell_type": "code",
      "execution_count": null,
      "metadata": {
        "ExecuteTime": {
          "end_time": "2021-01-09T06:49:11.684374Z",
          "start_time": "2021-01-09T06:49:11.680888Z"
        },
        "id": "yhB05DlyjggV"
      },
      "outputs": [],
      "source": [
        "# run this cell\n",
        "\n",
        "(3 - 2) * 4 - 5"
      ]
    },
    {
      "cell_type": "code",
      "execution_count": null,
      "metadata": {
        "ExecuteTime": {
          "end_time": "2021-01-09T06:49:13.109605Z",
          "start_time": "2021-01-09T06:49:13.105873Z"
        },
        "id": "c7iRyCDojggW"
      },
      "outputs": [],
      "source": [
        "# Try various equations (optional)\n",
        "\n",
        "8 * 2 + 4 - 10"
      ]
    },
    {
      "cell_type": "markdown",
      "metadata": {
        "id": "BAs40oV_jggW"
      },
      "source": [
        "In practice, you normally want to group operations to avoid confusion and to make the code easier to read."
      ]
    },
    {
      "cell_type": "markdown",
      "metadata": {
        "id": "uWU7p3G3jggW"
      },
      "source": [
        "## Logical and Comparison Operators\n",
        "\n",
        "The next set of operators we will talk about are logical and comparison operators. These operators go hand-in-hand in doing conditional statements and loops. We'll talk about those concepts in the next notebook, what's important is to be familiarized with these concepts first. Additionally, the outputs of these operators are **Boolean**, meaning they are either `True` or `False`."
      ]
    },
    {
      "cell_type": "markdown",
      "metadata": {
        "id": "hdRNJnUhjggW"
      },
      "source": [
        "### Comparison Operators\n",
        "\n",
        "These set of operators are used to compare two values given. There are six of these operators and it would be easier to list them out first.\n",
        "\n",
        "|Operator|Name|Description|\n",
        "|---|---|---|\n",
        "|$==$|Equal| Checks if two values are equal to each other|\n",
        "|$!=$| Not equal| Checks if two values are not equal to each other|\n",
        "|$>$| Greater than| Checks if one value is greater than the other|\n",
        "|$>=$|Greater than or equal to| Checks if one value is **at least** the other value|\n",
        "|$<$|Less than| Checks if one value is less than the other|\n",
        "|$<=$|Less than or equal to| Checks if one value is **at most** the other value|\n",
        "\n",
        "We'll try some examples in applying them below."
      ]
    },
    {
      "cell_type": "code",
      "execution_count": null,
      "metadata": {
        "ExecuteTime": {
          "end_time": "2021-01-10T06:05:49.864079Z",
          "start_time": "2021-01-10T06:05:49.860410Z"
        },
        "id": "g27TfgLAjggW"
      },
      "outputs": [],
      "source": [
        "# Equal operator ==\n",
        "# run this cell\n",
        "\n",
        "1 == 1"
      ]
    },
    {
      "cell_type": "code",
      "execution_count": null,
      "metadata": {
        "ExecuteTime": {
          "end_time": "2021-01-10T06:04:09.817765Z",
          "start_time": "2021-01-10T06:04:09.814389Z"
        },
        "id": "uo8zVYyljggW"
      },
      "outputs": [],
      "source": [
        "# Try to use other operators and experiment with certain combinations\n",
        "# I'll give you an idea on whay combinations might work\n",
        "# Let's first ask, can we use PEMDAS here? Let's see\n",
        "\n",
        "# run this cell\n",
        "\n",
        "(3 - 2) * 4 - 5 == -1"
      ]
    },
    {
      "cell_type": "markdown",
      "metadata": {
        "id": "zAQFzrppjggX"
      },
      "source": [
        "### Logical Operators\n",
        "\n",
        "We saw earlier that we can use comparisons to evaluate two given values. Now what if we want to make more complex conditions? Well, we can combine conditional statements to make more complex and robust programs. Below is a table to summarize these operators.\n",
        "\n",
        "|Operator|Description|\n",
        "|---|---|\n",
        "|`and`|Outputs true if both statements are true|\n",
        "|`or`|Outputs true if one of the statements is true\n",
        "|`not`|Reverses the result, outputs false if the statement is true|\n",
        "\n",
        "We'll do a couple of examples here and I will introduce the `True` and `False` keywords. These keywords are `Booleans`, where `True` is the same as 1 and `False` is the same as 0."
      ]
    },
    {
      "cell_type": "code",
      "execution_count": null,
      "metadata": {
        "ExecuteTime": {
          "end_time": "2021-01-10T06:07:29.285490Z",
          "start_time": "2021-01-10T06:07:29.281850Z"
        },
        "id": "LkovgsWsjggX"
      },
      "outputs": [],
      "source": [
        "# Let's first see the \"and\" operator and how it works\n",
        "# run this cell\n",
        "\n",
        "(2 + 2 == 4) and (3 - 2 == 1)"
      ]
    },
    {
      "cell_type": "markdown",
      "metadata": {
        "id": "hr3VeDKbjggX"
      },
      "source": [
        "Let's try using our `True` and `False` keywords."
      ]
    },
    {
      "cell_type": "code",
      "execution_count": null,
      "metadata": {
        "ExecuteTime": {
          "end_time": "2021-01-10T06:08:19.440544Z",
          "start_time": "2021-01-10T06:08:19.437629Z"
        },
        "id": "BXF2kjqTjggX"
      },
      "outputs": [],
      "source": [
        "# run this cell\n",
        "\n",
        "True and True"
      ]
    },
    {
      "cell_type": "code",
      "execution_count": null,
      "metadata": {
        "ExecuteTime": {
          "end_time": "2021-01-10T06:08:23.653394Z",
          "start_time": "2021-01-10T06:08:23.650110Z"
        },
        "id": "rzPWsAe0jggX"
      },
      "outputs": [],
      "source": [
        "# run this cell\n",
        "\n",
        "True and False"
      ]
    },
    {
      "cell_type": "code",
      "execution_count": null,
      "metadata": {
        "ExecuteTime": {
          "end_time": "2021-01-10T06:09:04.027523Z",
          "start_time": "2021-01-10T06:09:04.024515Z"
        },
        "id": "X7bVUT-hjggY"
      },
      "outputs": [],
      "source": [
        "# What would happen if we combine a conditional and a keyword?\n",
        "# let's see\n",
        "# run this cell\n",
        "\n",
        "(2 + 2 == 4) and True"
      ]
    },
    {
      "cell_type": "markdown",
      "metadata": {
        "id": "YaU7-D00jggY"
      },
      "source": [
        "As seen, we can combine conditional statements and the newly introduced keywords. The last two work the same way as the `and` operator."
      ]
    },
    {
      "cell_type": "code",
      "execution_count": null,
      "metadata": {
        "ExecuteTime": {
          "end_time": "2021-01-10T06:10:41.364662Z",
          "start_time": "2021-01-10T06:10:41.361208Z"
        },
        "id": "PxSMxUhNjggY"
      },
      "outputs": [],
      "source": [
        "# Let's change the operator from \"and\" to \"or\"\n",
        "# run this cell\n",
        "\n",
        "(2 + 2 == 4) or (3 - 2 == 1)"
      ]
    },
    {
      "cell_type": "code",
      "execution_count": null,
      "metadata": {
        "ExecuteTime": {
          "end_time": "2021-01-10T06:10:53.986137Z",
          "start_time": "2021-01-10T06:10:53.982992Z"
        },
        "id": "DkZIR0isjggY"
      },
      "outputs": [],
      "source": [
        "# same as before, let's combine a conditional statement and a keyword\n",
        "\n",
        "(2 + 2 == 4) or False"
      ]
    },
    {
      "cell_type": "code",
      "execution_count": null,
      "metadata": {
        "ExecuteTime": {
          "end_time": "2021-01-10T06:11:00.420297Z",
          "start_time": "2021-01-10T06:11:00.416475Z"
        },
        "id": "5n26zQ0kjggY"
      },
      "outputs": [],
      "source": [
        "# run this cell\n",
        "# this will summarize how the \"or\" operator functions\n",
        "True or False"
      ]
    },
    {
      "cell_type": "markdown",
      "metadata": {
        "id": "aV87HoGZjggY"
      },
      "source": [
        "The next operator is often used alongside the `and` and `or` operators, which tries to flip the result. The `not` operator can also be used for keywords to flip their meaning. Personally, I don't use this operator that often but it is always an important operator when I needed to be specific on my conditions."
      ]
    },
    {
      "cell_type": "code",
      "execution_count": null,
      "metadata": {
        "ExecuteTime": {
          "end_time": "2021-01-10T06:12:01.231651Z",
          "start_time": "2021-01-10T06:12:01.228416Z"
        },
        "id": "NCwJHYZOjggZ"
      },
      "outputs": [],
      "source": [
        "# Let's see an example for the keywords first\n",
        "# What would happen if we added a \"not\" operator for \"and\"?\n",
        "# run this cell\n",
        "\n",
        "True and not False"
      ]
    },
    {
      "cell_type": "code",
      "execution_count": null,
      "metadata": {
        "ExecuteTime": {
          "end_time": "2021-01-10T06:12:17.791962Z",
          "start_time": "2021-01-10T06:12:17.788211Z"
        },
        "id": "AdHz0xuEjggZ"
      },
      "outputs": [],
      "source": [
        "# What about for \"or\"?\n",
        "\n",
        "True or not False"
      ]
    },
    {
      "cell_type": "code",
      "execution_count": null,
      "metadata": {
        "ExecuteTime": {
          "end_time": "2021-01-10T06:12:32.138211Z",
          "start_time": "2021-01-10T06:12:32.134935Z"
        },
        "id": "Kek1WQJXjggZ"
      },
      "outputs": [],
      "source": [
        "# What about this one?\n",
        "\n",
        "not True or False"
      ]
    },
    {
      "cell_type": "markdown",
      "metadata": {
        "id": "N2nAq9ZVjggZ"
      },
      "source": [
        "You may have noticed that I used the `not` operator in two configurations for `or`. If you were to read `not True or False`, the `not` operator flips the value or meaning of the value after it. So we can read `not True` as `False`, because it is \"not true\". You can experiment more on the `not` operator using different conditional statements. "
      ]
    },
    {
      "cell_type": "markdown",
      "metadata": {
        "id": "fDEIkxm9jggZ"
      },
      "source": [
        "## Identity and Membership\n",
        "\n",
        "Now these are important and useful operators in Python. What's interesting is that they are quite straightforward to understand what they do. We already touched upon the logic of the identity operators, however, there is one difference: **memory allocation**. This just means that certain values are allocated a certain \"space\" in your computer."
      ]
    },
    {
      "cell_type": "markdown",
      "metadata": {
        "id": "lmKlmhgajgga"
      },
      "source": [
        "### Identity Operators\n",
        "\n",
        "The logic of these operators are the same as some of the comparison operators, but they have one main difference: memory allocation. This means that two objects are compared if they have the same value and the same \"location\". This may seem to be a minor difference, but it can be difficult to fix programming problems if you forget this. Don't worry, these operators can be used instead of the comparison operators but do so sparingly. \n",
        "\n",
        "Below is a list of these operators and what they do.\n",
        "\n",
        "|Operator|Description|\n",
        "|---|---|\n",
        "|`is`| Outputs true if two objects are **exactly** the same.|\n",
        "|`is not`| Outputs true if two objects are not the same.|"
      ]
    },
    {
      "cell_type": "code",
      "execution_count": null,
      "metadata": {
        "ExecuteTime": {
          "end_time": "2021-01-10T06:16:50.690630Z",
          "start_time": "2021-01-10T06:16:50.686854Z"
        },
        "id": "Fzoc3Z5Kjgga"
      },
      "outputs": [],
      "source": [
        "# to test some things, I want to illustrate it using numbers then variables\n",
        "# we will discuss what variables are in the next few sections\n",
        "# right now, just think of variables as something that stores a value\n",
        "# run this\n",
        "\n",
        "\n",
        "x = 1\n",
        "x is x"
      ]
    },
    {
      "cell_type": "code",
      "execution_count": null,
      "metadata": {
        "ExecuteTime": {
          "end_time": "2021-01-10T06:18:07.247945Z",
          "start_time": "2021-01-10T06:18:07.244743Z"
        },
        "id": "oj_AeDlvjgga"
      },
      "outputs": [],
      "source": [
        "# To compare, let's see if we use numbers instead\n",
        "# what does the error message say? (the red block)\n",
        "# run this\n",
        "\n",
        "1 is 1"
      ]
    },
    {
      "cell_type": "markdown",
      "metadata": {
        "id": "fyPqg7eojgga"
      },
      "source": [
        "You might have gotten this error message:\n",
        "```\n",
        "<>:5: SyntaxWarning: \"is\" with a literal. Did you mean \"==\"?\n",
        "<>:5: SyntaxWarning: \"is\" with a literal. Did you mean \"==\"?\n",
        "<ipython-input-4-162a7a06f62b>:5: SyntaxWarning: \"is\" with a literal. Did you mean \"==\"?\n",
        "  1 is 1\n",
        "```\n",
        "\n",
        "This just means that we should not use `is` in comparing **values**. Instead, we should use it when we compare objects such as **variables**. We will discuss some objects in a while, but it is important to learn this little difference."
      ]
    },
    {
      "cell_type": "code",
      "execution_count": null,
      "metadata": {
        "ExecuteTime": {
          "end_time": "2021-01-10T06:18:40.623323Z",
          "start_time": "2021-01-10T06:18:40.618710Z"
        },
        "id": "lsSF_0TPjgga"
      },
      "outputs": [],
      "source": [
        "# what if we compare an object with a value?\n",
        "# let's try it\n",
        "# run this\n",
        "\n",
        "x is 1"
      ]
    },
    {
      "cell_type": "code",
      "execution_count": null,
      "metadata": {
        "ExecuteTime": {
          "end_time": "2021-01-10T06:19:55.234213Z",
          "start_time": "2021-01-10T06:19:55.230853Z"
        },
        "id": "MRz1QN9Cjggb"
      },
      "outputs": [],
      "source": [
        "y = 2\n",
        "a = 4\n",
        "\n",
        "y is a"
      ]
    },
    {
      "cell_type": "markdown",
      "metadata": {
        "id": "gklkxlBkjggb"
      },
      "source": [
        "### Membership  Operators\n",
        "\n",
        "For this set operators, we will be using `lists`, which is simply an ordered list of things. Membership operators checks if a sequence or value is in an object. Think of it this way: can we find **eggs** in this checklist?\n",
        "\n",
        ">Checklist:\n",
        ">- milk\n",
        ">- bread\n",
        ">- eggs\n",
        "\n",
        "If you can find it, then it means that **eggs** are in our list. Here is a summary of these membership operators:\n",
        "\n",
        "|Operator|Description|\n",
        "|---|---|\n",
        "|`in`| Outputs true if a sequence or value is **in** an object|\n",
        "|`not in`| Outputs true if a sequence or value is **not in** an object|"
      ]
    },
    {
      "cell_type": "code",
      "execution_count": null,
      "metadata": {
        "ExecuteTime": {
          "end_time": "2021-01-10T06:23:06.930962Z",
          "start_time": "2021-01-10T06:23:06.928207Z"
        },
        "id": "41X8HXKcjggb"
      },
      "outputs": [],
      "source": [
        "# let's first use our checklist example\n",
        "# I'll define a variable and check if the item is in that list\n",
        "# run this\n",
        "\n",
        "checklist = [\"milk\", \"bread\", \"eggs\"] # make our checklist\n",
        "\n",
        "# let's get used to using the print function\n",
        "# you can still run the same code without the print\n",
        "\n",
        "print(\"eggs\" in checklist) "
      ]
    },
    {
      "cell_type": "code",
      "execution_count": null,
      "metadata": {
        "ExecuteTime": {
          "end_time": "2021-01-10T06:23:22.447029Z",
          "start_time": "2021-01-10T06:23:22.444647Z"
        },
        "id": "naIuZOchjggb"
      },
      "outputs": [],
      "source": [
        "# what about if we ask if pizza is in our checklist?\n",
        "\n",
        "print(\"pizza\" in checklist) "
      ]
    },
    {
      "cell_type": "code",
      "execution_count": null,
      "metadata": {
        "ExecuteTime": {
          "end_time": "2021-01-10T06:23:47.670917Z",
          "start_time": "2021-01-10T06:23:47.668417Z"
        },
        "id": "c9ijJQ-vjggb"
      },
      "outputs": [],
      "source": [
        "# what if we check if pizza is not in our checklist?\n",
        "\n",
        "print(\"pizza\" not in checklist) "
      ]
    },
    {
      "cell_type": "markdown",
      "metadata": {
        "id": "OFP02tYUjggb"
      },
      "source": [
        "That's it! We now conclude this section on operators and we can move on to another important concept: data types. In fact, we already know at least four of these: `numeric`, `string`, `list`, and `boolean`. In the next section, we will discuss more about these in detail."
      ]
    },
    {
      "cell_type": "markdown",
      "metadata": {
        "id": "43rAxkOYjggc"
      },
      "source": [
        "# <font color=\"Crimson\">Data Types</font>"
      ]
    },
    {
      "cell_type": "markdown",
      "metadata": {
        "id": "z_SMH1dFjggc"
      },
      "source": [
        "Every value and object in Python has a certain `data type`. Each type works a little bit differently than others. An example of these types are numbers (`numeric`) and text (`strings`). Much like everyday life, a letter works wildly different than a number. You can't do arithmetic with letters...unless we're talking about algebra but those are variables. A discussion for another section. These data types are always used in programming and it is best to understand what they are and how to use them.\n",
        "\n",
        "There are two broad classes of data types: **mutable** and **immutable**. In the simplest manner, **mutable objects can be changed** while **immutable objects can't**. To illustrate, you can't change $4$ into another number, but you can change a `list` whenever you want. As you could guess, **numbers are immutable**, while a **list is mutable**.\n",
        "\n",
        "Here is a summary of mutable and immutable data types:\n",
        "\n",
        "|Data Type|Mutable or Immutable?|\n",
        "|---|---|\n",
        "|`numeric`|Immutable|\n",
        "|`strings`|Immutable|\n",
        "|`tuple`|Immutable|\n",
        "|`bool`|Immutable|\n",
        "|`frozenset`|Immutable|\n",
        "|`set`|Mutable|\n",
        "|`lists`|Mutable|\n",
        "|`dict`|Mutable|\n",
        "\n",
        "We will discuss these in detail and we can look at the data type using the `type()` function in Python. We will first discuss immutable types, since these are the most familiar to you. "
      ]
    },
    {
      "cell_type": "markdown",
      "metadata": {
        "id": "Y4ev8ocXjggc"
      },
      "source": [
        "## Immutable"
      ]
    },
    {
      "cell_type": "markdown",
      "metadata": {
        "id": "minLGv_gjggc"
      },
      "source": [
        "As mentioned before, immutable data types are objects that **cannot change** after it is created. We will not dwell too much on the theoretical aspects, but I want to focus on the practical applications of these first. We will not discuss the `frozenset`, because it is simply a `set` that you have fixed or \"froze\". Instead, we will discuss the following: numeric types, strings, and tuples."
      ]
    },
    {
      "cell_type": "markdown",
      "metadata": {
        "id": "0OQK1SQUjggc"
      },
      "source": [
        "### Numeric Types"
      ]
    },
    {
      "cell_type": "markdown",
      "metadata": {
        "id": "Z6d6tW4Wjggc"
      },
      "source": [
        "Numeric types are the most commonly known data types. Numeric data types include integers (`int`), floats (`float`), and complex numbers (`complex`). The `float` type might seem new to you, but it's just a programmer's version of a number with decimal points or fractions."
      ]
    },
    {
      "cell_type": "code",
      "execution_count": null,
      "metadata": {
        "ExecuteTime": {
          "end_time": "2021-01-10T06:33:31.737022Z",
          "start_time": "2021-01-10T06:33:31.732710Z"
        },
        "id": "jzI9q2mVjggc"
      },
      "outputs": [],
      "source": [
        "# Let's first look at integers\n",
        "# run this cell\n",
        "\n",
        "type(1) # outputs the data type of an object/value"
      ]
    },
    {
      "cell_type": "code",
      "execution_count": null,
      "metadata": {
        "ExecuteTime": {
          "end_time": "2021-01-10T06:34:10.882564Z",
          "start_time": "2021-01-10T06:34:10.878582Z"
        },
        "id": "Sbf5zV-cjggc"
      },
      "outputs": [],
      "source": [
        "# What about this one?\n",
        "# run this cell\n",
        "\n",
        "type(1.0)"
      ]
    },
    {
      "cell_type": "markdown",
      "metadata": {
        "id": "Gu5Kneyujggc"
      },
      "source": [
        "As you noticed, $1$ and $1.0$ are different data types, because they function differently. $1.0$ can take in fractional values, while $1$ can't. What if we add these two types together?"
      ]
    },
    {
      "cell_type": "code",
      "execution_count": null,
      "metadata": {
        "ExecuteTime": {
          "end_time": "2021-01-10T06:35:16.788380Z",
          "start_time": "2021-01-10T06:35:16.785453Z"
        },
        "scrolled": true,
        "id": "zowN5fGojggd"
      },
      "outputs": [],
      "source": [
        "# Let's add a float and integer together\n",
        "# what is the data type?\n",
        "# run this cell\n",
        "\n",
        "print(\"Sum:\", 1 + 1.0)\n",
        "print(\"Data Type:\", type(1 + 1.0))"
      ]
    },
    {
      "cell_type": "code",
      "execution_count": null,
      "metadata": {
        "ExecuteTime": {
          "end_time": "2021-01-10T06:36:42.756168Z",
          "start_time": "2021-01-10T06:36:42.753370Z"
        },
        "id": "ggApF5gYjggd"
      },
      "outputs": [],
      "source": [
        "# what is the data type?\n",
        "# run this cell\n",
        "\n",
        "print(\"Floor:\", 1 // 1.0)\n",
        "print(\"Data Type:\", type(1 // 1.0))"
      ]
    },
    {
      "cell_type": "markdown",
      "metadata": {
        "id": "OcveZXH-jggd"
      },
      "source": [
        "We can see that if we add an integer and a float we always get a float. This makes sense, because when we normally add two numbers, the one with the fractional part is always followed. For example, if we add 3 and 3.5 we get 6.5. In the perspective of data types: `int` + `float` = `float`.\n",
        "\n",
        "The last numeric type is `complex`, which contains complex numbers. Recall that we represent a complex number with $i = \\sqrt{-1}$, but in Python we use `j` instead. Be careful though, Python will only consider `j` to be a complex number if it is immediately followed by a number."
      ]
    },
    {
      "cell_type": "code",
      "execution_count": null,
      "metadata": {
        "ExecuteTime": {
          "end_time": "2021-01-10T06:39:33.484242Z",
          "start_time": "2021-01-10T06:39:33.481562Z"
        },
        "id": "3DYlFToajggd"
      },
      "outputs": [],
      "source": [
        "# Let's look at what a complex number looks like\n",
        "# run this\n",
        "\n",
        "print(type(1j)) # notice that the j turns green, meaning it is now complex"
      ]
    },
    {
      "cell_type": "code",
      "execution_count": null,
      "metadata": {
        "ExecuteTime": {
          "end_time": "2021-01-10T06:39:46.255945Z",
          "start_time": "2021-01-10T06:39:46.253459Z"
        },
        "id": "x7vtjXaejggd"
      },
      "outputs": [],
      "source": [
        "# Let's look at what a complex number looks like\n",
        "# run this\n",
        "\n",
        "print(type(3 + 4j)) # notice that the j turns green, meaning it is now complex"
      ]
    },
    {
      "cell_type": "code",
      "execution_count": null,
      "metadata": {
        "ExecuteTime": {
          "end_time": "2021-01-10T06:39:59.584961Z",
          "start_time": "2021-01-10T06:39:59.496489Z"
        },
        "scrolled": true,
        "id": "efzNdthXjggd"
      },
      "outputs": [],
      "source": [
        "# Let's check if we simply used j\n",
        "# run this\n",
        "\n",
        "print(type(j))"
      ]
    },
    {
      "cell_type": "markdown",
      "metadata": {
        "id": "viS4gumVjggd"
      },
      "source": [
        "If you ran the last cell, you would get this error message:\n",
        "\n",
        "```\n",
        "NameError                                 Traceback (most recent call last)\n",
        "<ipython-input-19-ccbf95af8d3b> in <module>\n",
        "      2 # run this\n",
        "      3 \n",
        "----> 4 print(type(j))\n",
        "\n",
        "NameError: name 'j' is not defined\n",
        "```\n",
        "\n",
        "which just means that **j is a variable that is not yet defined**. Therefore, Python will only consider **j** as a complex number if it is written alongside another number."
      ]
    },
    {
      "cell_type": "markdown",
      "metadata": {
        "id": "31Z4FrLPjggd"
      },
      "source": [
        "### Strings\n",
        "\n",
        "`string` data types are simply text data that we enclose with quotation marks. There are three ways to declare strings: single quotation marks `''`, double quotation marks `\"\"`, or triple quotation marks `\"\"\"`. The last one allows you to create strings in multiple lines, or an entire paragraph."
      ]
    },
    {
      "cell_type": "code",
      "execution_count": null,
      "metadata": {
        "ExecuteTime": {
          "end_time": "2021-01-10T06:42:25.482011Z",
          "start_time": "2021-01-10T06:42:25.479342Z"
        },
        "id": "X2IdHQwXjgge"
      },
      "outputs": [],
      "source": [
        "# Let's see how they work\n",
        "# run this cell\n",
        "\n",
        "print('This is a string')\n",
        "print(\"This is a string\")\n",
        "print(\"\"\"\n",
        "        This is a string\n",
        "        in many lines\n",
        "    \"\"\")"
      ]
    },
    {
      "cell_type": "markdown",
      "metadata": {
        "id": "rgEqQnMSjgge"
      },
      "source": [
        "RAM -- > memory"
      ]
    },
    {
      "cell_type": "code",
      "execution_count": null,
      "metadata": {
        "ExecuteTime": {
          "end_time": "2021-01-10T06:45:04.640471Z",
          "start_time": "2021-01-10T06:45:04.637264Z"
        },
        "id": "yhd9-NeQjgge"
      },
      "outputs": [],
      "source": [
        "# Let's experiment a little\n",
        "# notice the text colors\n",
        "# why is this wrong?\n",
        "# run this cell\n",
        "\n",
        "print('Ethan's Notebook') "
      ]
    },
    {
      "cell_type": "code",
      "execution_count": null,
      "metadata": {
        "ExecuteTime": {
          "end_time": "2021-01-10T06:46:02.702784Z",
          "start_time": "2021-01-10T06:46:02.700255Z"
        },
        "id": "ure2ghDRjgge"
      },
      "outputs": [],
      "source": [
        "# One way to resolve this is to use \"\\\" (escape character)\n",
        "\n",
        "# this makes the quotation marks inside be read as a string\n",
        "# notice the text colors\n",
        "# run this cell\n",
        "\n",
        "print('Ethan\\'s Notebook') "
      ]
    },
    {
      "cell_type": "code",
      "execution_count": null,
      "metadata": {
        "ExecuteTime": {
          "end_time": "2021-01-10T06:47:09.749887Z",
          "start_time": "2021-01-10T06:47:09.747071Z"
        },
        "scrolled": true,
        "id": "4l_kmlpBjgge"
      },
      "outputs": [],
      "source": [
        "# Another way is to make the quotation marks different\n",
        "# run this cell\n",
        "\n",
        "print(\"Ethan's Notebook\")\n",
        "print('Ethan\"s Notebook') # this looks weird, may not be preferred method\n",
        "print(\"\"\"Ethan's Notebook\"\"\")"
      ]
    },
    {
      "cell_type": "markdown",
      "metadata": {
        "id": "b3GBrX0cjgge"
      },
      "source": [
        "Interestingly string objects are always processed by Python. This can make creating custom codes and **functions** easier for other people through documentations or **docstrings**. Note that docstrings are different from comments, because **docstrings are processed** by Python and not ignored like comments.\n",
        "\n",
        "We also have special characters for strings. I leave it up to you to experiment with these. These characters are the newline character `\\n` and the tab character `\\t`."
      ]
    },
    {
      "cell_type": "code",
      "execution_count": null,
      "metadata": {
        "ExecuteTime": {
          "end_time": "2021-01-10T06:50:01.812103Z",
          "start_time": "2021-01-10T06:50:01.809576Z"
        },
        "id": "vz1I2wmAjgge"
      },
      "outputs": [],
      "source": [
        "# example\n",
        "# run this cell\n",
        "print(\"My name is\\nEthan\")"
      ]
    },
    {
      "cell_type": "code",
      "execution_count": null,
      "metadata": {
        "ExecuteTime": {
          "end_time": "2021-01-10T06:50:31.336180Z",
          "start_time": "2021-01-10T06:50:31.333536Z"
        },
        "id": "b7bEKFO-jgge"
      },
      "outputs": [],
      "source": [
        "# Try using the \\t character and see what happens\n",
        "print(\"My name is\\t\\t\\t\\tEthan\")"
      ]
    },
    {
      "cell_type": "markdown",
      "metadata": {
        "id": "BBFBgz0Vjggf"
      },
      "source": [
        "You can perform addition and multiplication on strings as well!"
      ]
    },
    {
      "cell_type": "code",
      "execution_count": null,
      "metadata": {
        "ExecuteTime": {
          "end_time": "2021-01-10T06:51:05.839446Z",
          "start_time": "2021-01-10T06:51:05.836817Z"
        },
        "id": "WjU8PyQ6jggf"
      },
      "outputs": [],
      "source": [
        "# Adding two strings together is called concatenation\n",
        "# run this cell\n",
        "\n",
        "print(\"Hello\" + \"World\")"
      ]
    },
    {
      "cell_type": "code",
      "execution_count": null,
      "metadata": {
        "ExecuteTime": {
          "end_time": "2021-01-10T06:51:45.708168Z",
          "start_time": "2021-01-10T06:51:45.705688Z"
        },
        "id": "7TBSWhd0jggf"
      },
      "outputs": [],
      "source": [
        "# to add a space in between the words\n",
        "# we can add a space after \"Hello\"\n",
        "# or before \"World\"\n",
        "\n",
        "print(\"Hello \" + \"World\")\n",
        "print(\"Hello\" + \" World\")"
      ]
    },
    {
      "cell_type": "code",
      "execution_count": null,
      "metadata": {
        "ExecuteTime": {
          "end_time": "2021-01-10T06:52:07.437206Z",
          "start_time": "2021-01-10T06:52:07.434167Z"
        },
        "scrolled": true,
        "id": "MU9-oCuYjggf"
      },
      "outputs": [],
      "source": [
        "print(\"Hello\" + \" \" + \"World\")"
      ]
    },
    {
      "cell_type": "code",
      "execution_count": null,
      "metadata": {
        "ExecuteTime": {
          "end_time": "2021-01-10T06:53:01.671260Z",
          "start_time": "2021-01-10T06:53:01.668198Z"
        },
        "id": "xc67QB9bjggf"
      },
      "outputs": [],
      "source": [
        "# we can multiply string characters with a number\n",
        "# this makes doing repeated string objects easier to do!\n",
        "# on the same line\n",
        "\n",
        "print(\"-\" * 4)\n",
        "print(\"Hello! \" * 10)"
      ]
    },
    {
      "cell_type": "markdown",
      "metadata": {
        "id": "tuVSxsfSjggf"
      },
      "source": [
        "### Tuples\n",
        "\n",
        "The last immutable data type is called a `tuple`. A `tuple` is an ordered container of objects that cannot be changed. It also means that we cannot add or remove items in a tuple. Tuples are created by using the parenthesis `()`. This data type is useful in many applications in data science, since tuples are able to simplify certain data to a more accessible and readable form. "
      ]
    },
    {
      "cell_type": "code",
      "execution_count": null,
      "metadata": {
        "ExecuteTime": {
          "end_time": "2021-01-10T06:54:55.608044Z",
          "start_time": "2021-01-10T06:54:55.604983Z"
        },
        "id": "5Mo1Ztpwjggf"
      },
      "outputs": [],
      "source": [
        "# let's make a tuple\n",
        "# I won't use the print() function for now\n",
        "# run this cell\n",
        "\n",
        "type((1, 2))"
      ]
    },
    {
      "cell_type": "code",
      "execution_count": null,
      "metadata": {
        "ExecuteTime": {
          "end_time": "2021-01-10T06:55:04.855212Z",
          "start_time": "2021-01-10T06:55:04.851474Z"
        },
        "id": "sNfAlXeVjggf"
      },
      "outputs": [],
      "source": [
        "# we can also put other objects in a tuple\n",
        "# let's try using strings\n",
        "# run this cell\n",
        "\n",
        "type((1, 'milk'))"
      ]
    },
    {
      "cell_type": "code",
      "execution_count": null,
      "metadata": {
        "ExecuteTime": {
          "end_time": "2021-01-10T06:55:13.830930Z",
          "start_time": "2021-01-10T06:55:13.827574Z"
        },
        "id": "NUZcNJBUjggg"
      },
      "outputs": [],
      "source": [
        "# What about a list?\n",
        "# run this cell\n",
        "\n",
        "type(('milk', [1, 2, 3]))"
      ]
    },
    {
      "cell_type": "code",
      "execution_count": null,
      "metadata": {
        "ExecuteTime": {
          "end_time": "2021-01-10T06:55:23.556356Z",
          "start_time": "2021-01-10T06:55:23.553051Z"
        },
        "id": "XUfhdrgijggg"
      },
      "outputs": [],
      "source": [
        "# can we put duplicate items in a tuple?\n",
        "# run this cell\n",
        "\n",
        "type(('milk', 'milk'))"
      ]
    },
    {
      "cell_type": "markdown",
      "metadata": {
        "id": "Jq2HLBPnjggg"
      },
      "source": [
        "## Mutable\n",
        "\n",
        "Unlike immutable types, mutable objects can be changed. This means you can change certain elements, add, or even remove objects in these elements. We will discuss three types of mutable objects: `list`, `dict`, and `set`. "
      ]
    },
    {
      "cell_type": "markdown",
      "metadata": {
        "id": "Zp1BzFSQjggg"
      },
      "source": [
        "### Lists\n",
        "\n",
        "Python lists are quite different from tuples. For one, lists are mutable and are created using the square brackets `[]`. We can put anything in a list, may it be numbers, strings, tuples, or even another list. Lists can hold virtually anything in Python. As such, a `list` is an ordered and changeable container of objects. It also allows duplicate items within it. Elements in a `list` are separated by a comma `,`."
      ]
    },
    {
      "cell_type": "code",
      "execution_count": null,
      "metadata": {
        "ExecuteTime": {
          "end_time": "2020-12-13T07:23:03.142613Z",
          "start_time": "2020-12-13T07:23:03.138910Z"
        },
        "id": "cqXJGXDEjggg"
      },
      "outputs": [],
      "source": [
        "# Let's check what a list looks like first\n",
        "# run this cell\n",
        "\n",
        "[1, 2, 'eggs', \"ethan\", (1, 2), [\"grocery\", \"food\", 1]]"
      ]
    },
    {
      "cell_type": "code",
      "execution_count": null,
      "metadata": {
        "ExecuteTime": {
          "end_time": "2020-12-13T07:23:23.314897Z",
          "start_time": "2020-12-13T07:23:23.311869Z"
        },
        "id": "h3IFAofKjggg"
      },
      "outputs": [],
      "source": [
        "print(type([1, 2, 'eggs', \"ethan\", (1, 2), [\"grocery\", \"food\", 1]]))"
      ]
    },
    {
      "cell_type": "code",
      "execution_count": null,
      "metadata": {
        "ExecuteTime": {
          "end_time": "2020-12-13T07:23:44.611972Z",
          "start_time": "2020-12-13T07:23:44.609563Z"
        },
        "id": "iTXRgdd7jggg"
      },
      "outputs": [],
      "source": [
        "# you can try a simple list first to see it\n",
        "# never forget that it should start and end with a square bracket\n",
        "# run this cell\n",
        "\n",
        "print([1, 2, 3])"
      ]
    },
    {
      "cell_type": "markdown",
      "metadata": {
        "id": "dlAi0SSMjggg"
      },
      "source": [
        "You can see that there is no real limit to how many items you can put in a list. You can also put anything there. "
      ]
    },
    {
      "cell_type": "markdown",
      "metadata": {
        "id": "CckA9qhZjggh"
      },
      "source": [
        "### Dictionaries\n",
        "\n",
        "Dictionaries, as the name suggest, works like a normal dictionary. There is a certain `key` and a `value` attributed to it. Python dictionaries (`dict`) are unordered collections of `key:value` pairs. These are created using the curly braces `{}` and must have a `key` and a `value` separated by a colon `:`. Unlike lists, dictionaries do not allow duplicates if they have the same `key`. Similar to lists, elements in a dictionary are separated by a comma `,`."
      ]
    },
    {
      "cell_type": "code",
      "execution_count": null,
      "metadata": {
        "ExecuteTime": {
          "end_time": "2020-12-13T07:25:58.979924Z",
          "start_time": "2020-12-13T07:25:58.976433Z"
        },
        "id": "a8n47vosjggh"
      },
      "outputs": [],
      "source": [
        "# this is an example of a dictionary\n",
        "# run this cell\n",
        "\n",
        "{'Name' : 'Ethan', 'Age' : 10}"
      ]
    },
    {
      "cell_type": "code",
      "execution_count": null,
      "metadata": {
        "ExecuteTime": {
          "end_time": "2020-12-13T07:26:30.605982Z",
          "start_time": "2020-12-13T07:26:30.602792Z"
        },
        "id": "sEddQBhljggh"
      },
      "outputs": [],
      "source": [
        "# let's look at this data type\n",
        "# run this cell\n",
        "\n",
        "type({'Name' : 'Ethan'})"
      ]
    },
    {
      "cell_type": "markdown",
      "metadata": {
        "id": "1WCLwGl4jggh"
      },
      "source": [
        "### Sets"
      ]
    },
    {
      "cell_type": "markdown",
      "metadata": {
        "id": "TK_Rz9YRjggh"
      },
      "source": [
        "Sets are created similarly to dictionaries. Sets are created using curly braces `{}`, but sets do not allow duplicates. Moreover, **set elements are unordered, unindexed, cannot be changed** once created. However, you can add items which makes them mutable. "
      ]
    },
    {
      "cell_type": "code",
      "execution_count": null,
      "metadata": {
        "ExecuteTime": {
          "end_time": "2020-12-13T07:27:30.921986Z",
          "start_time": "2020-12-13T07:27:30.918613Z"
        },
        "id": "kSns2IvJjggh"
      },
      "outputs": [],
      "source": [
        "# let's create a set\n",
        "# run this cell\n",
        "\n",
        "print(\"Created set: \", {1, 2, 1, 1, 3})\n",
        "print(\"Type: \", type({1, 2, 1, 1, 3}))"
      ]
    },
    {
      "cell_type": "code",
      "execution_count": null,
      "metadata": {
        "ExecuteTime": {
          "end_time": "2020-12-13T07:27:48.523779Z",
          "start_time": "2020-12-13T07:27:48.520724Z"
        },
        "id": "wtLt3kgZjggi"
      },
      "outputs": [],
      "source": [
        "# As you noticed, duplicate items are immediately removed\n",
        "# we can also use strings and numbers in a set\n",
        "# run this cell\n",
        "\n",
        "{1, 'apple'}"
      ]
    },
    {
      "cell_type": "code",
      "execution_count": null,
      "metadata": {
        "ExecuteTime": {
          "end_time": "2020-12-13T07:32:14.799480Z",
          "start_time": "2020-12-13T07:32:14.793280Z"
        },
        "id": "YoEKHKuYjggi"
      },
      "outputs": [],
      "source": [
        "# but we can't use lists, dictionaries, and sets \n",
        "# run this cell\n",
        "# you should get an error\n",
        "\n",
        "{[1, 2]}"
      ]
    },
    {
      "cell_type": "markdown",
      "metadata": {
        "id": "H2xhp6S8jggi"
      },
      "source": [
        "# <font color=\"Crimson\">Variables & Extended Discussions</font>\n",
        "\n",
        "In this section, we will introduce **variables** and have an extended discussion on lists and dictionaries. We will be discussing how to retrieve, remove, and add items in lists and dictionaries. We will also learn how variables play into all these."
      ]
    },
    {
      "cell_type": "markdown",
      "metadata": {
        "id": "Mf7xb-eijggi"
      },
      "source": [
        "## Variables\n",
        "\n",
        "Variables, simply put, are **things that store something**. I mean that liberally, since you can store anything in variables. These make repeated use of objects much more convenient and accessible. We create a variable by setting a variable name followed by the equal sign `=` then the object that it would store.\n",
        "\n",
        "For example, `x = 2` is creating a variable named `x` which stores the value 2. Variables are not limited to a single letter, but it can be a name. However, there are certain naming conventions you must know:\n",
        "\n",
        "1. Variable names must start with a letter or an underscore.\n",
        "    - `variable`\n",
        "    - `_variable`\n",
        "    \n",
        "2. Variable names can't start with a number(s). **These are not allowed:**\n",
        "    - `1stvariable`\n",
        "    - `123variable`\n",
        "    - `8700jabee`\n",
        "    \n",
        "3. The end parts of your variable name can end with a number, letter, or underscore. You can also use underscores to separate two words in variable names.\n",
        "    - `variable_`\n",
        "    - `new_variable`\n",
        "    - `variable2`\n",
        "    - `food2go`\n",
        "    \n",
        "4. Variable names are case sensitive. For example, the following variables are different:\n",
        "\n",
        "    - `variable_name`\n",
        "    - `VARIABLE_NAME`\n",
        "    - `variable_Name`\n",
        "    \n",
        "5. As much as possible, try to avoid abbreviations for readability reasons. In line with this, you must try your best to make variable names as descriptive as possible for others and you to read your code with ease.\n",
        "\n",
        "    - `student` instead of `stnd`\n",
        "    - `book_value` instead of `bk_val`\n"
      ]
    },
    {
      "cell_type": "code",
      "execution_count": null,
      "metadata": {
        "ExecuteTime": {
          "end_time": "2020-12-13T07:40:12.577549Z",
          "start_time": "2020-12-13T07:40:12.574857Z"
        },
        "id": "Kq42_gQxjggi"
      },
      "outputs": [],
      "source": [
        "# let's make our first variable!\n",
        "# what makes variables extremely useful is that\n",
        "# you can reference them whenever and wherever you want\n",
        "# as long as you already created one\n",
        "# run this cell\n",
        "\n",
        "hello = \"Hello! \"\n",
        "print(hello)"
      ]
    },
    {
      "cell_type": "code",
      "execution_count": null,
      "metadata": {
        "ExecuteTime": {
          "end_time": "2020-12-13T07:37:39.528530Z",
          "start_time": "2020-12-13T07:37:39.525488Z"
        },
        "id": "dSYzokHkjggj"
      },
      "outputs": [],
      "source": [
        "# you can store any data type in a variable\n",
        "# variables also have the same data type as the data they store\n",
        "# let's try a list\n",
        "\n",
        "my_list = [\"eggs\", \"milk\", \"cheese\", \"bacon\"]\n",
        "\n",
        "print(\"My list: \", my_list)\n",
        "print(\"Variable type:\", type(my_list))"
      ]
    },
    {
      "cell_type": "code",
      "execution_count": null,
      "metadata": {
        "ExecuteTime": {
          "end_time": "2020-12-13T07:41:16.927567Z",
          "start_time": "2020-12-13T07:41:16.924387Z"
        },
        "id": "HMykXMjSjggj"
      },
      "outputs": [],
      "source": [
        "# sometimes you want to create multiple variables\n",
        "# and you can even create two or more variables in one line!\n",
        "# just make sure they are still readable\n",
        "# run this cell\n",
        "# can you guess the values of x and y?\n",
        "\n",
        "x, y = 1, 2\n",
        "print(\"x: \", x)\n",
        "print(\"y: \", y)"
      ]
    },
    {
      "cell_type": "markdown",
      "metadata": {
        "id": "NwQdlKQHjggj"
      },
      "source": [
        "Since variables store values and their types, we can do the same operations and functions on them as their data type."
      ]
    },
    {
      "cell_type": "code",
      "execution_count": null,
      "metadata": {
        "ExecuteTime": {
          "end_time": "2020-12-13T07:41:55.929528Z",
          "start_time": "2020-12-13T07:41:55.926756Z"
        },
        "id": "AQi0-mXfjggj"
      },
      "outputs": [],
      "source": [
        "print(x + y)\n",
        "print(x == y)"
      ]
    },
    {
      "cell_type": "markdown",
      "metadata": {
        "id": "As6uLI50jggj"
      },
      "source": [
        "You can try to experiment with various operations on variables to have a better mastery of it!"
      ]
    },
    {
      "cell_type": "markdown",
      "metadata": {
        "id": "W2iavqSsjggj"
      },
      "source": [
        "### Reserved Words\n",
        "\n",
        "The following are reserved words in Python. Meaning they have a certain use that must not be overwritten, thus you cannot create variable or class names with them. Don't worry if you forget! They turn green when you create them. Here is a list of all of these words:\n",
        "\n",
        "`False      class      finally    is         return\n",
        " None       continue   for        lambda     try\n",
        " True       def        from       nonlocal   while\n",
        " and        del        global     not        with\n",
        " as         elif       if         or         yield\n",
        " assert     else       import     pass\n",
        " break      except     in         raise`"
      ]
    },
    {
      "cell_type": "markdown",
      "metadata": {
        "id": "_8kpM9Tzjggj"
      },
      "source": [
        "## Lists\n",
        "\n",
        "We will be talking more about how to use lists here. I will introduce how to get certain elements in a list as well as how to remove or add elements. **It is also not necessary for lists to have elements when created**."
      ]
    },
    {
      "cell_type": "code",
      "execution_count": null,
      "metadata": {
        "ExecuteTime": {
          "end_time": "2020-12-13T07:43:30.344317Z",
          "start_time": "2020-12-13T07:43:30.341695Z"
        },
        "id": "3Jy7aP8fjggk"
      },
      "outputs": [],
      "source": [
        "# Here is an empty list\n",
        "# we can see here that this is still a list\n",
        "\n",
        "empty_list = []\n",
        "print(type(empty_list))"
      ]
    },
    {
      "cell_type": "markdown",
      "metadata": {
        "id": "zw-Jp5WWjggk"
      },
      "source": [
        "Now, how can we access elements in a list? We can do so by using brackets `[]` beside the list. Also note that a list element has an id or `index` in the form of numbers.\n",
        "\n",
        "<img src=\"https://railsware.com/blog/wp-content/uploads/2018/10/positive-indexes.png\" width=500em>\n",
        "<font size=1em>Image source: https://railsware.com/blog/python-for-machine-learning-indexing-and-slicing-for-lists-tuples-strings-and-other-sequential-types/</font>\n",
        "\n",
        "These indexes start from $0$ to $n-1$, where $n$ is the total number of elements. We can also check the length of a list or object using the `len()` function. Let's see an example of this.\n"
      ]
    },
    {
      "cell_type": "code",
      "execution_count": null,
      "metadata": {
        "ExecuteTime": {
          "end_time": "2020-12-13T07:45:17.256944Z",
          "start_time": "2020-12-13T07:45:17.253941Z"
        },
        "id": "zHnnhOukjggk"
      },
      "outputs": [],
      "source": [
        "# Let's first see how the len() function works\n",
        "# first, try to count how many elements are there in the list\n",
        "# then compare them with our result\n",
        "# try to run this cell\n",
        "\n",
        "new_list = ['red', 'green', 'blue', 'yellow', 'white', 'black'] # create list\n",
        "print(len(new_list)) # we should get the same number of elements"
      ]
    },
    {
      "cell_type": "markdown",
      "metadata": {
        "solution2": "hidden",
        "solution2_first": true,
        "id": "XSB7lqJLjggk"
      },
      "source": [
        "Thus, the `len()` function counts how many **top-level** items there are or it measures the length of the object. Let's try to access an element in our new list. Let's get the color red. Can you guess what index it is?"
      ]
    },
    {
      "cell_type": "code",
      "execution_count": null,
      "metadata": {
        "ExecuteTime": {
          "end_time": "2020-12-07T11:06:53.225013Z",
          "start_time": "2020-12-07T11:06:53.216877Z"
        },
        "solution2": "hidden",
        "id": "yrhG3TJ7jggl"
      },
      "outputs": [],
      "source": [
        "new_list[0]"
      ]
    },
    {
      "cell_type": "markdown",
      "metadata": {
        "id": "9pbLjtOljggl"
      },
      "source": [
        "Did you guess $0$? If so, you're right! We say that the first element in a list has an index of $0$. What about the last element? "
      ]
    },
    {
      "cell_type": "code",
      "execution_count": null,
      "metadata": {
        "ExecuteTime": {
          "end_time": "2020-12-13T07:48:27.978483Z",
          "start_time": "2020-12-13T07:48:27.975693Z"
        },
        "id": "OtKDoNp0jggl"
      },
      "outputs": [],
      "source": [
        "# We can do this in two ways:\n",
        "# get the len() - 1 of our list\n",
        "# in this case, the last element has the index 5\n",
        "\n",
        "new_list[5]"
      ]
    },
    {
      "cell_type": "markdown",
      "metadata": {
        "id": "2QHEZOKJjggm"
      },
      "source": [
        "We can use negative indexing, which starts at the last element with the index of -1. This is useful for really long and large objects, where you want to see the last elements in that object.\n",
        "\n",
        "<img src=\"https://railsware.com/blog/wp-content/uploads/2018/10/negative-indexes.png\" width=500em>\n",
        "<font size=1em>Image source: https://railsware.com/blog/python-for-machine-learning-indexing-and-slicing-for-lists-tuples-strings-and-other-sequential-types/</font>\n",
        "\n"
      ]
    },
    {
      "cell_type": "code",
      "execution_count": null,
      "metadata": {
        "ExecuteTime": {
          "end_time": "2020-12-13T07:50:01.865524Z",
          "start_time": "2020-12-13T07:50:01.861365Z"
        },
        "id": "ZBMsmNIJjggm"
      },
      "outputs": [],
      "source": [
        "# Try to access the last element with its negative index\n",
        "\n",
        "new_list[-1]"
      ]
    },
    {
      "cell_type": "markdown",
      "metadata": {
        "id": "FaOPOn5Ujggm"
      },
      "source": [
        "We can also retrieve a part or `slice` of a list. This is done by adding a colon `:` to our indexing brackets `[]`. So it should look like this: `[:]`. It does have a convention, see the figure below.\n",
        "\n",
        "<img src=\"https://www.learnbyexample.org/wp-content/uploads/python/Python-List-Slicing-Syntax.png\">\n",
        "<font size=1em>Image source: https://www.learnbyexample.org/python-list-slicing/</font>\n",
        "\n",
        "A visual example of list slicing is shown below.\n",
        "<img src=\"https://railsware.com/blog/wp-content/uploads/2018/10/first-slice.png\" width=500em>\n",
        "<font size=1em>Image source: https://www.learnbyexample.org/python-list-slicing/</font>\n"
      ]
    },
    {
      "cell_type": "code",
      "execution_count": null,
      "metadata": {
        "ExecuteTime": {
          "end_time": "2020-12-13T07:51:48.827068Z",
          "start_time": "2020-12-13T07:51:48.823467Z"
        },
        "id": "n2CXjmnRjggm"
      },
      "outputs": [],
      "source": [
        "# Let's try to apply this in our list\n",
        "# We'll get the first 3 elements in our list\n",
        "# Note that the stop number is not included\n",
        "# thus, the slice ends at index 2\n",
        "\n",
        "new_list[:3]"
      ]
    },
    {
      "cell_type": "code",
      "execution_count": null,
      "metadata": {
        "ExecuteTime": {
          "end_time": "2020-12-13T07:53:59.506169Z",
          "start_time": "2020-12-13T07:53:59.502790Z"
        },
        "id": "xzDOsOTRjggn"
      },
      "outputs": [],
      "source": [
        "# to see what I mean, let's get the slice [2:3]\n",
        "# what did you notice?\n",
        "\n",
        "new_list[2:3]"
      ]
    },
    {
      "cell_type": "code",
      "execution_count": null,
      "metadata": {
        "ExecuteTime": {
          "end_time": "2020-12-13T07:56:22.931020Z",
          "start_time": "2020-12-13T07:56:22.927329Z"
        },
        "id": "TC_8VYvMjggn"
      },
      "outputs": [],
      "source": [
        "# the step means how many elements to jump or \"step\" on\n",
        "# let's make our step equal to 2, and get the first 4 elements\n",
        "# what happened?\n",
        "\n",
        "new_list[:4:2]"
      ]
    },
    {
      "cell_type": "code",
      "execution_count": null,
      "metadata": {
        "ExecuteTime": {
          "end_time": "2020-12-13T07:56:48.997794Z",
          "start_time": "2020-12-13T07:56:48.993277Z"
        },
        "id": "hOV3_yfzjggn"
      },
      "outputs": [],
      "source": [
        "# We can even reverse the list order\n",
        "# we do this by setting our step to -1\n",
        "\n",
        "new_list[::-1]"
      ]
    },
    {
      "cell_type": "markdown",
      "metadata": {
        "id": "6gJbxH_fjggn"
      },
      "source": [
        "### List Functions\n",
        "\n",
        "We already discussed some of the functions we can use for lists. This function was the `len()` function, which outputs the number of **top-level** items in a list. More functions will be discussed here.\n",
        "\n"
      ]
    },
    {
      "cell_type": "markdown",
      "metadata": {
        "id": "oBBCxXfDjggn"
      },
      "source": [
        "#### `len()`"
      ]
    },
    {
      "cell_type": "code",
      "execution_count": null,
      "metadata": {
        "ExecuteTime": {
          "end_time": "2020-12-13T07:59:15.956516Z",
          "start_time": "2020-12-13T07:59:15.952964Z"
        },
        "id": "TlAXS6bSjggn"
      },
      "outputs": [],
      "source": [
        "# Let's see an example \n",
        "\n",
        "three_elems = ['apple', 'banana', 'carrot']\n",
        "len(three_elems)"
      ]
    },
    {
      "cell_type": "code",
      "execution_count": null,
      "metadata": {
        "ExecuteTime": {
          "end_time": "2020-12-13T08:00:36.989042Z",
          "start_time": "2020-12-13T08:00:36.985371Z"
        },
        "id": "9BHvznBajggn"
      },
      "outputs": [],
      "source": [
        "# Let's see an example if the list has a sublist\n",
        "# this has one element in the top of the list\n",
        "\n",
        "one_elem = [['apple', 'banana', 'carrot']] \n",
        "len(one_elem)"
      ]
    },
    {
      "cell_type": "markdown",
      "metadata": {
        "id": "FOHrsGgTjggo"
      },
      "source": [
        "#### `append()`\n",
        "\n",
        "This function or method adds or `appends` an object to the end of the list. Thus, using this function simply **updates our list**. Let's see an example."
      ]
    },
    {
      "cell_type": "code",
      "execution_count": null,
      "metadata": {
        "ExecuteTime": {
          "end_time": "2020-12-13T08:02:13.443860Z",
          "start_time": "2020-12-13T08:02:13.441019Z"
        },
        "id": "kVTciRsUjggo"
      },
      "outputs": [],
      "source": [
        "# let's make a new list\n",
        "\n",
        "for_appending = [1, 2, 3]\n",
        "print(\"Before updating: \", for_appending)\n",
        "\n",
        "for_appending.append('apple') # this is how you use the append method\n",
        "print(\"After updating: \", for_appending)"
      ]
    },
    {
      "cell_type": "markdown",
      "metadata": {
        "id": "J972Bchbjggo"
      },
      "source": [
        "#### `extend()`\n",
        "\n",
        "This function or method **extends a list** by adding the elements from another list or an [iterable](https://www.pythonlikeyoumeanit.com/Module2_EssentialsOfPython/Iterables.html). Like the `append()` method, it does not output any value, but only adds the content of an iterable to the list."
      ]
    },
    {
      "cell_type": "code",
      "execution_count": null,
      "metadata": {
        "ExecuteTime": {
          "end_time": "2020-12-13T08:05:31.109317Z",
          "start_time": "2020-12-13T08:05:31.105405Z"
        },
        "id": "iNzMVxlzjggo"
      },
      "outputs": [],
      "source": [
        "# let's make a new list\n",
        "\n",
        "for_extending = ['E', 't', 'h', 'a', 'n']\n",
        "print(\"Before extending: \", for_extending)\n",
        "\n",
        "for_extending.extend('Casin')\n",
        "print(\"After extending: \", for_extending)"
      ]
    },
    {
      "cell_type": "markdown",
      "metadata": {
        "id": "wDaYPxjZjggo"
      },
      "source": [
        "#### `append()` vs `extend()` \n",
        "\n",
        "The `append()` method simply **adds new objects in a list** while `extend()` **extends a list by adding the elements from an iterable**. Let's see a comparison."
      ]
    },
    {
      "cell_type": "code",
      "execution_count": null,
      "metadata": {
        "ExecuteTime": {
          "end_time": "2020-12-13T08:06:36.879482Z",
          "start_time": "2020-12-13T08:06:36.875248Z"
        },
        "id": "PaG-7PUZjggp"
      },
      "outputs": [],
      "source": [
        "list_append = [1, 2, 3] \n",
        "list_extend = [1, 2, 3] \n",
        "\n",
        "to_add = [4, 5]\n",
        "\n",
        "# append\n",
        "list_append.append(to_add)\n",
        "print('Append: ', list_append)\n",
        "\n",
        "# extend\n",
        "list_extend.extend(to_add)\n",
        "print('Extend: ', list_extend)"
      ]
    },
    {
      "cell_type": "markdown",
      "metadata": {
        "id": "21_jzmJvjggp"
      },
      "source": [
        "#### `index()`\n",
        "\n",
        "This method outputs the index of an element."
      ]
    },
    {
      "cell_type": "code",
      "execution_count": null,
      "metadata": {
        "ExecuteTime": {
          "end_time": "2021-01-17T06:08:04.673979Z",
          "start_time": "2021-01-17T06:08:04.663224Z"
        },
        "id": "YmaBJilcjggp"
      },
      "outputs": [],
      "source": [
        "a_list = ['apple', 1, 'banana']\n",
        "a_list.index('banana')"
      ]
    },
    {
      "cell_type": "code",
      "execution_count": null,
      "metadata": {
        "ExecuteTime": {
          "end_time": "2021-01-17T06:08:45.915068Z",
          "start_time": "2021-01-17T06:08:45.911981Z"
        },
        "id": "jF1_bveBjggp"
      },
      "outputs": [],
      "source": [
        "a_list.index('apple')"
      ]
    },
    {
      "cell_type": "markdown",
      "metadata": {
        "id": "eTGQDP_rjggp"
      },
      "source": [
        "#### `del` and `remove()`\n",
        "\n",
        "These two functions are quite similar. They only differ in how they are used. `del` is normally used if **you know exactly the index of the element to delete**, while `remove()` **is used when you're not sure what is the index of the element to delete**."
      ]
    },
    {
      "cell_type": "code",
      "execution_count": null,
      "metadata": {
        "ExecuteTime": {
          "end_time": "2021-01-17T06:13:22.375933Z",
          "start_time": "2021-01-17T06:13:22.370679Z"
        },
        "id": "BJJ6WSLDjggp"
      },
      "outputs": [],
      "source": [
        "# for delete\n",
        "\n",
        "delete = ['apple', 1, 'banana']\n",
        "print('Before Deleting: ', delete)\n",
        "\n",
        "del delete[0]\n",
        "print('After Deleting: ', delete)\n",
        "\n",
        "print('\\n') # adds a space in between\n",
        "\n",
        "# for remove\n",
        "remove_elem = [1, 2, 3, 4, 5, 6, 7, 8]\n",
        "print('Before Removing ', remove_elem)\n",
        "\n",
        "remove_elem.remove(4)\n",
        "print('After Removing ', remove_elem)"
      ]
    },
    {
      "cell_type": "markdown",
      "metadata": {
        "id": "p4myXAJbjggr"
      },
      "source": [
        "#### `sort()`\n",
        "\n",
        "This method sorts the elements in a list by ascending or descending order. By default it sorts the elements in ascending order. You can change it by using the `ascending` parameter in that method. More on parameters in the next lectures, for now understand what it does."
      ]
    },
    {
      "cell_type": "code",
      "execution_count": null,
      "metadata": {
        "ExecuteTime": {
          "end_time": "2021-01-17T06:15:09.707106Z",
          "start_time": "2021-01-17T06:15:09.704164Z"
        },
        "id": "SP4nykMdjggr"
      },
      "outputs": [],
      "source": [
        "sorting_list = [3, 5, 1, 2]\n",
        "sorting_list.sort()\n",
        "print(sorting_list)"
      ]
    },
    {
      "cell_type": "code",
      "execution_count": null,
      "metadata": {
        "ExecuteTime": {
          "end_time": "2021-01-17T06:15:26.458739Z",
          "start_time": "2021-01-17T06:15:26.455831Z"
        },
        "id": "QhEh5oWAjggr"
      },
      "outputs": [],
      "source": [
        "sorting_list = ['e', 'a', 'g', 'o', 'u', '123']\n",
        "sorting_list.sort()\n",
        "print(sorting_list)"
      ]
    },
    {
      "cell_type": "code",
      "execution_count": null,
      "metadata": {
        "ExecuteTime": {
          "end_time": "2021-01-17T06:15:43.632915Z",
          "start_time": "2021-01-17T06:15:43.630231Z"
        },
        "id": "OlKiwu-Tjggr"
      },
      "outputs": [],
      "source": [
        "sorting_list = ['e', 'a', 'o', 'u', '1', '2', '3']\n",
        "sorting_list.sort()\n",
        "print(sorting_list)"
      ]
    },
    {
      "cell_type": "code",
      "execution_count": null,
      "metadata": {
        "ExecuteTime": {
          "end_time": "2021-01-17T06:16:11.268933Z",
          "start_time": "2021-01-17T06:16:11.196284Z"
        },
        "id": "-T1xIAGsjggs"
      },
      "outputs": [],
      "source": [
        "sorting_list = ['e', 'a', 'o', 'u', 1, 2, 3] # should be the same\n",
        "sorting_list.sort()\n",
        "print(sorting_list)"
      ]
    },
    {
      "cell_type": "markdown",
      "metadata": {
        "id": "P60eWJrIjggs"
      },
      "source": [
        "### `.insert()`"
      ]
    },
    {
      "cell_type": "code",
      "execution_count": null,
      "metadata": {
        "ExecuteTime": {
          "end_time": "2021-01-17T06:23:26.079990Z",
          "start_time": "2021-01-17T06:23:26.070128Z"
        },
        "id": "ZMEE6eb0jggs"
      },
      "outputs": [],
      "source": [
        "[1, 2, 3, 4 ,5 ,6 ,7, 9 ,8].index(9)"
      ]
    },
    {
      "cell_type": "code",
      "execution_count": null,
      "metadata": {
        "ExecuteTime": {
          "end_time": "2021-01-17T06:20:06.947964Z",
          "start_time": "2021-01-17T06:20:06.945237Z"
        },
        "scrolled": true,
        "id": "U7ePIIG2jggs"
      },
      "outputs": [],
      "source": [
        "a_list = [1, 2, 3]\n",
        "\n",
        "# .insert()\n",
        "a_list.insert(1, 'banana')\n",
        "print(a_list)"
      ]
    },
    {
      "cell_type": "code",
      "execution_count": null,
      "metadata": {
        "ExecuteTime": {
          "end_time": "2021-01-17T06:20:34.016819Z",
          "start_time": "2021-01-17T06:20:34.014230Z"
        },
        "scrolled": true,
        "id": "LAQNNw1sjggs"
      },
      "outputs": [],
      "source": [
        "# updating/modifying\n",
        "\n",
        "a_list[0] = 'apple'\n",
        "print(a_list)"
      ]
    },
    {
      "cell_type": "markdown",
      "metadata": {
        "id": "nltniTbLjggs"
      },
      "source": [
        "### List Operations\n",
        "\n",
        "Like strings, you can perform `+` and `*` operations on lists. We will find out that these operators work exactly like strings."
      ]
    },
    {
      "cell_type": "code",
      "execution_count": null,
      "metadata": {
        "ExecuteTime": {
          "end_time": "2021-01-17T06:25:14.431973Z",
          "start_time": "2021-01-17T06:25:14.428546Z"
        },
        "id": "RusCzvKkjggs"
      },
      "outputs": [],
      "source": [
        "# concatenation\n",
        "\n",
        "[1, 2, 3] + [4, 5, 6] # combine the two lists"
      ]
    },
    {
      "cell_type": "code",
      "execution_count": null,
      "metadata": {
        "ExecuteTime": {
          "end_time": "2021-01-17T06:26:24.168425Z",
          "start_time": "2021-01-17T06:26:24.164792Z"
        },
        "id": "91Z1eLJfjggs"
      },
      "outputs": [],
      "source": [
        "[1, 2, 3] * 2"
      ]
    },
    {
      "cell_type": "code",
      "execution_count": null,
      "metadata": {
        "ExecuteTime": {
          "end_time": "2021-01-17T06:26:38.765661Z",
          "start_time": "2021-01-17T06:26:38.761887Z"
        },
        "id": "msbNS3Pujggs"
      },
      "outputs": [],
      "source": [
        "[1, 2, 3] + [1, 2, 3]"
      ]
    },
    {
      "cell_type": "markdown",
      "metadata": {
        "id": "Pjl9DpfFjggt"
      },
      "source": [
        "## Dictionaries\n",
        "\n",
        "Much like our discussion on lists, we will extend our knowledge on dictionaries. We will see how to access elements, add, and remove elements from dictionaries. You will encounter a lot of dictionaries in the future as an aspiring data scientist. For now, let's learn more about them. "
      ]
    },
    {
      "cell_type": "code",
      "execution_count": null,
      "metadata": {
        "ExecuteTime": {
          "end_time": "2021-01-17T06:28:10.845325Z",
          "start_time": "2021-01-17T06:28:10.841535Z"
        },
        "id": "wcfvkLXajggt"
      },
      "outputs": [],
      "source": [
        "# Let's make a dictionary and access its elements\n",
        "# Let's get the name in this dictionary\n",
        "# it's similar to getting list elements, but we use the keys\n",
        "# doing this will return the value of that key\n",
        "\n",
        "a_dictionary = {'Name' : 'Ethan', 'Age' : 10}\n",
        "a_dictionary['Name']"
      ]
    },
    {
      "cell_type": "code",
      "execution_count": null,
      "metadata": {
        "ExecuteTime": {
          "end_time": "2021-01-17T06:29:14.709470Z",
          "start_time": "2021-01-17T06:29:14.705369Z"
        },
        "id": "r_xq0SvQjggt"
      },
      "outputs": [],
      "source": [
        "{'People' : {'Ethan' : {'Age' : 10, 'Sex' : 'M'}}} # JSON"
      ]
    },
    {
      "cell_type": "markdown",
      "metadata": {
        "id": "K9lSWlwwjggt"
      },
      "source": [
        "Like lists, it is not necessary to create a dictionary with `key:value` pairs inside. We can do this by using the `dict()` function or simply `{}`. Let's create an empty list and add a `key:value` pair to it."
      ]
    },
    {
      "cell_type": "code",
      "execution_count": null,
      "metadata": {
        "ExecuteTime": {
          "end_time": "2021-01-17T06:31:44.175691Z",
          "start_time": "2021-01-17T06:31:44.172144Z"
        },
        "id": "ooruY03njggt"
      },
      "outputs": [],
      "source": [
        "# new_dict = dict() # explicit\n",
        "\n",
        "new_dict = {} # if not specified, it can be interpreted as a set\n",
        "\n",
        "# let's add a Name key with the value Pedro\n",
        "new_dict['Name'] = 'Pedro'\n",
        "new_dict"
      ]
    },
    {
      "cell_type": "code",
      "execution_count": null,
      "metadata": {
        "ExecuteTime": {
          "end_time": "2021-01-17T06:32:00.884588Z",
          "start_time": "2021-01-17T06:32:00.881418Z"
        },
        "id": "SVDUXp5Hjggt"
      },
      "outputs": [],
      "source": [
        "# we can even change the value of certain keys\n",
        "# this is possible, since dictionaries should only contain unique keys\n",
        "\n",
        "new_dict['Name'] = 'Juan'\n",
        "new_dict"
      ]
    },
    {
      "cell_type": "code",
      "execution_count": null,
      "metadata": {
        "ExecuteTime": {
          "end_time": "2021-01-17T06:33:38.552012Z",
          "start_time": "2021-01-17T06:33:38.548445Z"
        },
        "id": "0Cmt-XRWjggt"
      },
      "outputs": [],
      "source": [
        "# we can also observe this, because of the previous property\n",
        "\n",
        "a_dict = {'Name' : 'Pedro', 'name' : 'Juan'}  # don't do this!\n",
        "a_dict"
      ]
    },
    {
      "cell_type": "code",
      "execution_count": null,
      "metadata": {
        "ExecuteTime": {
          "end_time": "2021-01-17T03:33:43.187234Z",
          "start_time": "2021-01-17T03:33:43.183943Z"
        },
        "scrolled": true,
        "id": "GN3WIADKjggu"
      },
      "outputs": [],
      "source": [
        "name_dict = {'Names' : [{'Juan': {'Age': 10}}, 'Pedro']}\n",
        "name_dict"
      ]
    },
    {
      "cell_type": "code",
      "execution_count": null,
      "metadata": {
        "ExecuteTime": {
          "end_time": "2021-01-17T06:38:46.474548Z",
          "start_time": "2021-01-17T06:38:46.470713Z"
        },
        "id": "ftsvJ2X0jggu"
      },
      "outputs": [],
      "source": [
        "data = {'Person' : {'Pedro' : {'Age': 5},  'Juan' : {'Age' : 10}}}\n",
        "data"
      ]
    },
    {
      "cell_type": "code",
      "execution_count": null,
      "metadata": {
        "ExecuteTime": {
          "end_time": "2021-01-17T06:38:48.015965Z",
          "start_time": "2021-01-17T06:38:48.012947Z"
        },
        "id": "A0L6StJpjggu"
      },
      "outputs": [],
      "source": [
        "data['Person']"
      ]
    },
    {
      "cell_type": "code",
      "execution_count": null,
      "metadata": {
        "ExecuteTime": {
          "end_time": "2021-01-17T06:38:59.992260Z",
          "start_time": "2021-01-17T06:38:59.989055Z"
        },
        "id": "M3ECFpdYjggu"
      },
      "outputs": [],
      "source": [
        "data['Person']['Pedro']['Age']"
      ]
    },
    {
      "cell_type": "markdown",
      "metadata": {
        "id": "vdHz5YJPjggu"
      },
      "source": [
        "We can also delete items in a dictionary using `del` or the `pop()` method."
      ]
    },
    {
      "cell_type": "code",
      "execution_count": null,
      "metadata": {
        "ExecuteTime": {
          "end_time": "2021-01-17T06:42:48.586983Z",
          "start_time": "2021-01-17T06:42:48.583952Z"
        },
        "id": "yqBStTqHjggu"
      },
      "outputs": [],
      "source": [
        "# using del\n",
        "\n",
        "del_demo = {'panyo' : 'handkerchief', 'payong' : 'umbrella', 'kotse' : 'car'}\n",
        "\n",
        "del del_demo['panyo']\n",
        "print(del_demo)"
      ]
    },
    {
      "cell_type": "code",
      "execution_count": null,
      "metadata": {
        "ExecuteTime": {
          "end_time": "2021-01-17T06:43:43.472209Z",
          "start_time": "2021-01-17T06:43:43.469045Z"
        },
        "id": "qUaqP4Lgjggu"
      },
      "outputs": [],
      "source": [
        "# using pop\n",
        "\n",
        "pop_demo = {'panyo' : 'handkerchief', 'payong' : 'umbrella', 'kotse' : 'car'}\n",
        "\n",
        "pop_demo.pop('panyo')\n",
        "print(pop_demo)"
      ]
    },
    {
      "cell_type": "markdown",
      "metadata": {
        "id": "9JX9aeo1jggu"
      },
      "source": [
        "We can also get the number of `key:value` pair a dictionary has using the `1en()` function."
      ]
    },
    {
      "cell_type": "code",
      "execution_count": null,
      "metadata": {
        "ExecuteTime": {
          "end_time": "2021-01-17T06:44:24.257210Z",
          "start_time": "2021-01-17T06:44:24.252335Z"
        },
        "id": "MfiR_42jjggu"
      },
      "outputs": [],
      "source": [
        "a_dict = {'Name' : 'Ethan', 'Age' : 10, 'Sex' : 'M'}\n",
        "len(a_dict)"
      ]
    },
    {
      "cell_type": "markdown",
      "metadata": {
        "id": "eLmkSj46jggv"
      },
      "source": [
        "### `items()` \n",
        "\n",
        "We can get a list of the `key:value` pairs of a dictionary using the `items()` method. Note that this is a **list of tuples**."
      ]
    },
    {
      "cell_type": "code",
      "execution_count": null,
      "metadata": {
        "ExecuteTime": {
          "end_time": "2021-01-17T06:45:10.198628Z",
          "start_time": "2021-01-17T06:45:10.195118Z"
        },
        "id": "4Tzjh9B-jggv"
      },
      "outputs": [],
      "source": [
        "item_sample = {'Name' : 'Ethan', 'Age' : 10, 'Sex' : 'M'}\n",
        "item_sample.items()"
      ]
    },
    {
      "cell_type": "markdown",
      "metadata": {
        "id": "UKXk97cZjggv"
      },
      "source": [
        "### `values()` \n",
        "\n",
        "We can get a list of the dictionary values using the `values()` method."
      ]
    },
    {
      "cell_type": "code",
      "execution_count": null,
      "metadata": {
        "ExecuteTime": {
          "end_time": "2021-01-17T06:45:52.923828Z",
          "start_time": "2021-01-17T06:45:52.919446Z"
        },
        "id": "IPUW7rcujggv"
      },
      "outputs": [],
      "source": [
        "values_sample = {'Name' : 'Ethan', 'Age' : 10, 'Sex' : 'M'}\n",
        "values_sample.values()"
      ]
    },
    {
      "cell_type": "markdown",
      "metadata": {
        "id": "hbzxdcp0jggv"
      },
      "source": [
        "### `keys()` \n",
        "\n",
        "Similarly, we can get a list of dictionary keys using the `keys()` method."
      ]
    },
    {
      "cell_type": "code",
      "execution_count": null,
      "metadata": {
        "ExecuteTime": {
          "end_time": "2021-01-17T06:46:12.415583Z",
          "start_time": "2021-01-17T06:46:12.411968Z"
        },
        "id": "jSHkL15Vjggv"
      },
      "outputs": [],
      "source": [
        "keys_sample = {'Name' : 'Ethan', 'Age' : 10, 'Sex' : 'M'}\n",
        "keys_sample.keys()"
      ]
    },
    {
      "cell_type": "markdown",
      "metadata": {
        "id": "hgxiWEamjggv"
      },
      "source": [
        "## Tuples"
      ]
    },
    {
      "cell_type": "markdown",
      "metadata": {
        "id": "X0vU0e2Hjggv"
      },
      "source": [
        "This should just be a short discussion, since tuples behave the same way as lists."
      ]
    },
    {
      "cell_type": "code",
      "execution_count": null,
      "metadata": {
        "ExecuteTime": {
          "end_time": "2021-01-17T06:48:00.212101Z",
          "start_time": "2021-01-17T06:48:00.208690Z"
        },
        "id": "8Kv5QsnFjggv"
      },
      "outputs": [],
      "source": [
        "# let's have a tuple of superhero names\n",
        "# let's get the first and last elements\n",
        "# and make a slice\n",
        "\n",
        "heroes = ('Batman', 'Supergirl', 'Spiderman', 'Wonderwoman')\n",
        "\n",
        "print('First element: ', heroes[0])\n",
        "print('Last element: ', heroes[-1])\n",
        "print('Middle elements: ', heroes[1:3])"
      ]
    },
    {
      "cell_type": "code",
      "execution_count": null,
      "metadata": {
        "id": "Vw-rEryzjggv"
      },
      "outputs": [],
      "source": [
        "heroes[::-1]"
      ]
    },
    {
      "cell_type": "markdown",
      "metadata": {
        "id": "8UP6GaPijggw"
      },
      "source": [
        "Interestingly, we can retrieve or `unpack` tuple elements through variables. Here is an example."
      ]
    },
    {
      "cell_type": "code",
      "execution_count": null,
      "metadata": {
        "ExecuteTime": {
          "end_time": "2021-01-17T06:51:35.177328Z",
          "start_time": "2021-01-17T06:51:35.174384Z"
        },
        "id": "pYL0p6bvjggw"
      },
      "outputs": [],
      "source": [
        "new_tuple = (1, 2)\n",
        "\n",
        "\n",
        "x, y = new_tuple\n",
        "print('x: ', x)\n",
        "print('y: ', y)"
      ]
    },
    {
      "cell_type": "markdown",
      "metadata": {
        "id": "wMha1PSqjggw"
      },
      "source": [
        "### `len()` \n",
        "\n",
        "Similarly, we can use the `len()` function for tuples."
      ]
    },
    {
      "cell_type": "code",
      "execution_count": null,
      "metadata": {
        "ExecuteTime": {
          "end_time": "2021-01-17T06:52:52.177142Z",
          "start_time": "2021-01-17T06:52:52.173503Z"
        },
        "id": "_Y_RRvp6jggw"
      },
      "outputs": [],
      "source": [
        "a_tuple = (1, 2, 3)\n",
        "len(a_tuple)"
      ]
    },
    {
      "cell_type": "markdown",
      "metadata": {
        "id": "YriIZL-Jjggw"
      },
      "source": [
        "### `count()`\n",
        "\n",
        "This method tries to count how many times an element has appeared in a tuple."
      ]
    },
    {
      "cell_type": "code",
      "execution_count": null,
      "metadata": {
        "ExecuteTime": {
          "end_time": "2021-01-17T06:53:10.820485Z",
          "start_time": "2021-01-17T06:53:10.816838Z"
        },
        "id": "ThhyploZjggw"
      },
      "outputs": [],
      "source": [
        "with_duplicates = (1, 1, 2, 'apple', 2, 'banana')\n",
        "with_duplicates.count(1)"
      ]
    },
    {
      "cell_type": "markdown",
      "metadata": {
        "id": "0SMLuyaTjggw"
      },
      "source": [
        "### `index()` \n",
        "\n",
        "Similar to lists, we can find the index of a tuple element using the `index()` element."
      ]
    },
    {
      "cell_type": "code",
      "execution_count": null,
      "metadata": {
        "ExecuteTime": {
          "end_time": "2021-01-17T06:53:21.180535Z",
          "start_time": "2021-01-17T06:53:21.177481Z"
        },
        "id": "HiWcFoQIjgg3"
      },
      "outputs": [],
      "source": [
        "my_tuple = ('apple', 'banana', 'milk', 'cheese')\n",
        "my_tuple.index('milk')"
      ]
    },
    {
      "cell_type": "markdown",
      "metadata": {
        "id": "XRPsZnmkjgg3"
      },
      "source": [
        "## Strings\n",
        "\n",
        "Some additional knowledge that we can do indexing and slicing for strings as well."
      ]
    },
    {
      "cell_type": "code",
      "execution_count": null,
      "metadata": {
        "ExecuteTime": {
          "end_time": "2021-01-17T06:54:27.933179Z",
          "start_time": "2021-01-17T06:54:27.930092Z"
        },
        "id": "aaFdhx_yjgg3"
      },
      "outputs": [],
      "source": [
        "a_string = 'Ethan' # iterable\n",
        "\n",
        "print('First element: ', a_string[0])\n",
        "print('Last element: ', a_string[-1])\n",
        "print('Middle elements: ', a_string[1:4])"
      ]
    },
    {
      "cell_type": "markdown",
      "metadata": {
        "id": "fRhvcKSKjgg3"
      },
      "source": [
        "You may also notice that I used the `print()` function in certain ways. I will now introduce the concept of string formatting, which can come in handy if you want your results to be more readable and presentable.\n",
        "\n",
        "The first concept is on the `%` character in print. This is unique to strings and can be used for positional formatting."
      ]
    },
    {
      "cell_type": "code",
      "execution_count": null,
      "metadata": {
        "ExecuteTime": {
          "end_time": "2021-01-17T06:55:44.373908Z",
          "start_time": "2021-01-17T06:55:44.370922Z"
        },
        "id": "IR2MefSojgg3"
      },
      "outputs": [],
      "source": [
        "# example\n",
        "# old way\n",
        "word1 = 'apples'\n",
        "word2 = 'bananas'\n",
        "\n",
        "print(\"I like %s better than %s.\" % (word1, word2))\n",
        "print(\"I like %s better than %s.\" % (word2, word1))"
      ]
    },
    {
      "cell_type": "markdown",
      "metadata": {
        "id": "ev2RjbIEjgg3"
      },
      "source": [
        "It's also possible to format numbers in a string."
      ]
    },
    {
      "cell_type": "code",
      "execution_count": null,
      "metadata": {
        "ExecuteTime": {
          "end_time": "2021-01-17T06:56:34.682183Z",
          "start_time": "2021-01-17T06:56:34.679462Z"
        },
        "id": "fvz9rZubjgg3"
      },
      "outputs": [],
      "source": [
        "food = 'pizza'\n",
        "pizza_price = 99.99\n",
        "\n",
        "# % is referring to the element right after the percent (5)\n",
        "print('I want a slice of %s.' % food)\n",
        "print('It would cost me about Php %d.' % pizza_price)"
      ]
    },
    {
      "cell_type": "markdown",
      "metadata": {
        "id": "nMqnMW5Fjgg4"
      },
      "source": [
        "As you could guessm `%s` means a string while `%d` means it is an integer. We can also format floats to have certain decimal numbers using `%.nf`, where the `.` indicates it is a decimal point and `n` means the number of decimal points you want to consider. `f` is only an indicator that it is a float."
      ]
    },
    {
      "cell_type": "code",
      "execution_count": null,
      "metadata": {
        "ExecuteTime": {
          "end_time": "2021-01-17T06:57:52.313261Z",
          "start_time": "2021-01-17T06:57:52.309546Z"
        },
        "id": "KJISpc5_jgg4"
      },
      "outputs": [],
      "source": [
        "# let's use another price and format it\n",
        "new_price = 49.335\n",
        "\n",
        "print(\"This items's price is Php %.2f.\" % new_price)\n",
        "print(\"This items's price is Php %.1f.\" % new_price)\n",
        "\n",
        "# let's use our pizza's price\n",
        "print(\"The pizza costs about Php %.1f.\" % pizza_price)"
      ]
    },
    {
      "cell_type": "markdown",
      "metadata": {
        "id": "D9Po6DPmjgg4"
      },
      "source": [
        "### `format()` \n",
        "\n",
        "Another way to do string formatting is by using the `format()` method. This method allows placeholders to have an explicit index, which makes re-arranging the elements easier."
      ]
    },
    {
      "cell_type": "code",
      "execution_count": null,
      "metadata": {
        "ExecuteTime": {
          "end_time": "2021-01-17T06:58:55.206313Z",
          "start_time": "2021-01-17T06:58:55.203341Z"
        },
        "scrolled": true,
        "id": "iEU_Y0G5jgg4"
      },
      "outputs": [],
      "source": [
        "# let's use our earlier example\n",
        "\n",
        "word1 = 'apples'\n",
        "word2 = 'bananas'\n",
        "\n",
        "print(\"I like {} better than {}\".format(word1, word2))\n",
        "print(\"I like {1} better than {0}.\".format(word1, word2))"
      ]
    },
    {
      "cell_type": "code",
      "execution_count": null,
      "metadata": {
        "ExecuteTime": {
          "end_time": "2021-01-17T06:59:27.749403Z",
          "start_time": "2021-01-17T06:59:27.745495Z"
        },
        "id": "io9UcJKLjgg4"
      },
      "outputs": [],
      "source": [
        "# We can also do it for numbers as before\n",
        "\n",
        "new_price = 49.335\n",
        "\n",
        "# the colon : acts as a divider between putting an element and formatting it\n",
        "print(\"This items's price is Php {:.2f}.\".format(new_price))"
      ]
    },
    {
      "cell_type": "markdown",
      "metadata": {
        "id": "mo3P4lFvjgg4"
      },
      "source": [
        "### `f\"{}\"` or `f'{}'`\n",
        "\n",
        "A more concise way of formatting strings is by placing the letter `f` before the quotation marks. This is my preferred way of string formatting, because it is short and direct. The way we use it is similar to the `format()` method, so we don't need to learn anything new."
      ]
    },
    {
      "cell_type": "code",
      "execution_count": null,
      "metadata": {
        "ExecuteTime": {
          "end_time": "2021-01-17T07:00:14.243254Z",
          "start_time": "2021-01-17T07:00:14.240385Z"
        },
        "id": "_CiH2tRMjgg4"
      },
      "outputs": [],
      "source": [
        "# let's use our earlier example\n",
        "\n",
        "word1 = 'apples'\n",
        "word2 = 'bananas'\n",
        "\n",
        "\n",
        "print(f\"I like {word1} better than {word2}.\")\n",
        "print(f\"I like {word2} better than {word1}.\")"
      ]
    },
    {
      "cell_type": "code",
      "execution_count": null,
      "metadata": {
        "ExecuteTime": {
          "end_time": "2021-01-17T07:00:24.413260Z",
          "start_time": "2021-01-17T07:00:24.410874Z"
        },
        "id": "sX1LEZPDjgg4"
      },
      "outputs": [],
      "source": [
        "# We can also do it for numbers as before\n",
        "\n",
        "new_price = 49.335\n",
        "\n",
        "# the colon : acts as a divider between putting an element and formatting it\n",
        "print(f\"This items's price is Php {new_price:.2f}.\")"
      ]
    },
    {
      "cell_type": "markdown",
      "metadata": {
        "id": "8B6F1Tcbjgg4"
      },
      "source": [
        "### `upper()`,  `lower()`, and `capitalize()`\n",
        "\n",
        "These methods change the case of the strings. Simply put, `upper()` puts all the letters in the string to upper-case, `lower()` to lower-case, and `capitalize()` makes the first letter in the string as upper-case"
      ]
    },
    {
      "cell_type": "code",
      "execution_count": null,
      "metadata": {
        "ExecuteTime": {
          "end_time": "2021-01-17T07:01:03.479497Z",
          "start_time": "2021-01-17T07:01:03.476181Z"
        },
        "id": "lBj2d8XIjgg5"
      },
      "outputs": [],
      "source": [
        "print('hello'.upper())\n",
        "print('HELLO'.lower())\n",
        "print('hello, ethan'.capitalize())"
      ]
    },
    {
      "cell_type": "markdown",
      "metadata": {
        "id": "ofalSR8Njgg5"
      },
      "source": [
        "### `count()` \n",
        "\n",
        "This method counts how many times an element occurred in a string."
      ]
    },
    {
      "cell_type": "code",
      "execution_count": null,
      "metadata": {
        "ExecuteTime": {
          "end_time": "2021-01-17T07:02:08.536349Z",
          "start_time": "2021-01-17T07:02:08.533088Z"
        },
        "id": "qv90zaqHjgg5"
      },
      "outputs": [],
      "source": [
        "'My name is Ethan Ethan'.count('EthanEthan') # note that it is case-sensitive"
      ]
    },
    {
      "cell_type": "markdown",
      "metadata": {
        "id": "ntyB1O1ajgg5"
      },
      "source": [
        "### `split()`\n",
        "\n",
        "This method \"splits\" a string and turns it into a list. By default, the `separator` is a whitespace, but you can specify other separators."
      ]
    },
    {
      "cell_type": "code",
      "execution_count": null,
      "metadata": {
        "ExecuteTime": {
          "end_time": "2021-01-17T07:02:38.897748Z",
          "start_time": "2021-01-17T07:02:38.894413Z"
        },
        "id": "kb71r9Gqjgg5"
      },
      "outputs": [],
      "source": [
        "# default\n",
        "string = 'This is my string'\n",
        "string.split()"
      ]
    },
    {
      "cell_type": "code",
      "execution_count": null,
      "metadata": {
        "ExecuteTime": {
          "start_time": "2021-01-17T07:03:12.927Z"
        },
        "id": "NhSo-qU1jgg5"
      },
      "outputs": [],
      "source": [
        "# let's split the string according to the comma\n",
        "\n",
        "with_comma = 'Hello there, Ethan!'\n",
        "with_comma.split('there')"
      ]
    },
    {
      "cell_type": "markdown",
      "metadata": {
        "id": "VsoogJ3Kjgg5"
      },
      "source": [
        "# <font color=\"Crimson\"> That's All Folks!</font>\n",
        "\n",
        "Congratulations! You have now covered all the basics you need to take on more difficult Python tasks. In the next lecture, we will discuss conditional statements and loops. For now, be proud of finishing your first notebook!\n",
        "\n",
        "![](https://media.giphy.com/media/lTpme2Po0hkqI/giphy.gif)"
      ]
    },
    {
      "cell_type": "code",
      "execution_count": null,
      "metadata": {
        "id": "Lps3ZMxpjgg5"
      },
      "outputs": [],
      "source": [
        ""
      ]
    }
  ],
  "metadata": {
    "hide_input": false,
    "kernelspec": {
      "display_name": "Python 3",
      "language": "python",
      "name": "python3"
    },
    "language_info": {
      "codemirror_mode": {
        "name": "ipython",
        "version": 3
      },
      "file_extension": ".py",
      "mimetype": "text/x-python",
      "name": "python",
      "nbconvert_exporter": "python",
      "pygments_lexer": "ipython3",
      "version": "3.8.5"
    },
    "toc": {
      "base_numbering": 1,
      "nav_menu": {},
      "number_sections": true,
      "sideBar": true,
      "skip_h1_title": false,
      "title_cell": "Table of Contents",
      "title_sidebar": "Contents",
      "toc_cell": false,
      "toc_position": {
        "height": "calc(100% - 180px)",
        "left": "10px",
        "top": "150px",
        "width": "309px"
      },
      "toc_section_display": true,
      "toc_window_display": true
    },
    "colab": {
      "name": "1 Fundamentals.ipynb",
      "provenance": [],
      "toc_visible": true
    }
  },
  "nbformat": 4,
  "nbformat_minor": 0
}